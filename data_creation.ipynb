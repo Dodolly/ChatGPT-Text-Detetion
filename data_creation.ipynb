{
  "cells": [
    {
      "cell_type": "code",
      "execution_count": 1,
      "metadata": {
        "colab": {
          "base_uri": "https://localhost:8080/"
        },
        "id": "vYXMH43zRARI",
        "outputId": "fcc9bb8c-2b6b-4e1c-e72e-47282d9dd49b"
      },
      "outputs": [
        {
          "name": "stdout",
          "output_type": "stream",
          "text": [
            "Collecting openai\n",
            "  Downloading openai-0.27.2-py3-none-any.whl (70 kB)\n",
            "     -------------------------------------- 70.1/70.1 kB 950.1 kB/s eta 0:00:00\n",
            "Requirement already satisfied: requests>=2.20 in c:\\users\\radue\\appdata\\local\\programs\\python\\python310\\lib\\site-packages (from openai) (2.28.1)\n",
            "Collecting aiohttp\n",
            "  Downloading aiohttp-3.8.4-cp310-cp310-win_amd64.whl (319 kB)\n",
            "     -------------------------------------- 319.8/319.8 kB 1.2 MB/s eta 0:00:00\n",
            "Requirement already satisfied: tqdm in c:\\users\\radue\\appdata\\local\\programs\\python\\python310\\lib\\site-packages (from openai) (4.64.1)\n",
            "Requirement already satisfied: idna<4,>=2.5 in c:\\users\\radue\\appdata\\local\\programs\\python\\python310\\lib\\site-packages (from requests>=2.20->openai) (3.4)\n",
            "Requirement already satisfied: urllib3<1.27,>=1.21.1 in c:\\users\\radue\\appdata\\local\\programs\\python\\python310\\lib\\site-packages (from requests>=2.20->openai) (1.26.12)\n",
            "Requirement already satisfied: charset-normalizer<3,>=2 in c:\\users\\radue\\appdata\\local\\programs\\python\\python310\\lib\\site-packages (from requests>=2.20->openai) (2.1.1)\n",
            "Requirement already satisfied: certifi>=2017.4.17 in c:\\users\\radue\\appdata\\local\\programs\\python\\python310\\lib\\site-packages (from requests>=2.20->openai) (2022.9.24)\n",
            "Collecting frozenlist>=1.1.1\n",
            "  Downloading frozenlist-1.3.3-cp310-cp310-win_amd64.whl (33 kB)\n",
            "Collecting yarl<2.0,>=1.0\n",
            "  Downloading yarl-1.8.2-cp310-cp310-win_amd64.whl (56 kB)\n",
            "     ---------------------------------------- 56.1/56.1 kB 1.5 MB/s eta 0:00:00\n",
            "Collecting async-timeout<5.0,>=4.0.0a3\n",
            "  Downloading async_timeout-4.0.2-py3-none-any.whl (5.8 kB)\n",
            "Collecting aiosignal>=1.1.2\n",
            "  Downloading aiosignal-1.3.1-py3-none-any.whl (7.6 kB)\n",
            "Collecting attrs>=17.3.0\n",
            "  Downloading attrs-22.2.0-py3-none-any.whl (60 kB)\n",
            "     ---------------------------------------- 60.0/60.0 kB 1.6 MB/s eta 0:00:00\n",
            "Collecting multidict<7.0,>=4.5\n",
            "  Downloading multidict-6.0.4-cp310-cp310-win_amd64.whl (28 kB)\n",
            "Requirement already satisfied: colorama in c:\\users\\radue\\appdata\\roaming\\python\\python310\\site-packages (from tqdm->openai) (0.4.6)\n",
            "Installing collected packages: multidict, frozenlist, attrs, async-timeout, yarl, aiosignal, aiohttp, openai\n",
            "Successfully installed aiohttp-3.8.4 aiosignal-1.3.1 async-timeout-4.0.2 attrs-22.2.0 frozenlist-1.3.3 multidict-6.0.4 openai-0.27.2 yarl-1.8.2\n"
          ]
        },
        {
          "name": "stderr",
          "output_type": "stream",
          "text": [
            "\n",
            "[notice] A new release of pip available: 22.3.1 -> 23.0.1\n",
            "[notice] To update, run: python.exe -m pip install --upgrade pip\n"
          ]
        }
      ],
      "source": [
        "! pip install openai"
      ]
    },
    {
      "cell_type": "code",
      "execution_count": 2,
      "metadata": {
        "colab": {
          "base_uri": "https://localhost:8080/"
        },
        "id": "W8xNsQk9kH5s",
        "outputId": "da1dae05-e91c-44ec-fb03-3df57bd2a414"
      },
      "outputs": [
        {
          "name": "stdout",
          "output_type": "stream",
          "text": [
            "Collecting datasets"
          ]
        },
        {
          "name": "stderr",
          "output_type": "stream",
          "text": [
            "\n",
            "[notice] A new release of pip available: 22.3.1 -> 23.0.1\n",
            "[notice] To update, run: python.exe -m pip install --upgrade pip\n"
          ]
        },
        {
          "name": "stdout",
          "output_type": "stream",
          "text": [
            "\n",
            "  Downloading datasets-2.11.0-py3-none-any.whl (468 kB)\n",
            "     -------------------------------------- 468.7/468.7 kB 1.2 MB/s eta 0:00:00\n",
            "Collecting multiprocess\n",
            "  Downloading multiprocess-0.70.14-py310-none-any.whl (134 kB)\n",
            "     -------------------------------------- 134.3/134.3 kB 1.6 MB/s eta 0:00:00\n",
            "Collecting xxhash\n",
            "  Downloading xxhash-3.2.0-cp310-cp310-win_amd64.whl (30 kB)\n",
            "Collecting dill<0.3.7,>=0.3.0\n",
            "  Downloading dill-0.3.6-py3-none-any.whl (110 kB)\n",
            "     -------------------------------------- 110.5/110.5 kB 2.2 MB/s eta 0:00:00\n",
            "Requirement already satisfied: pyarrow>=8.0.0 in c:\\users\\radue\\appdata\\local\\programs\\python\\python310\\lib\\site-packages (from datasets) (11.0.0)\n",
            "Requirement already satisfied: tqdm>=4.62.1 in c:\\users\\radue\\appdata\\local\\programs\\python\\python310\\lib\\site-packages (from datasets) (4.64.1)\n",
            "Requirement already satisfied: aiohttp in c:\\users\\radue\\appdata\\local\\programs\\python\\python310\\lib\\site-packages (from datasets) (3.8.4)\n",
            "Collecting pyyaml>=5.1\n",
            "  Downloading PyYAML-6.0-cp310-cp310-win_amd64.whl (151 kB)\n",
            "     -------------------------------------- 151.7/151.7 kB 1.3 MB/s eta 0:00:00\n",
            "Collecting fsspec[http]>=2021.11.1\n",
            "  Downloading fsspec-2023.3.0-py3-none-any.whl (145 kB)\n",
            "     -------------------------------------- 145.4/145.4 kB 1.7 MB/s eta 0:00:00\n",
            "Requirement already satisfied: packaging in c:\\users\\radue\\appdata\\local\\programs\\python\\python310\\lib\\site-packages (from datasets) (21.3)\n",
            "Collecting responses<0.19\n",
            "  Downloading responses-0.18.0-py3-none-any.whl (38 kB)\n",
            "Requirement already satisfied: pandas in c:\\users\\radue\\appdata\\roaming\\python\\python310\\site-packages (from datasets) (1.5.2)\n",
            "Requirement already satisfied: numpy>=1.17 in c:\\users\\radue\\appdata\\local\\programs\\python\\python310\\lib\\site-packages (from datasets) (1.23.5)\n",
            "Collecting huggingface-hub<1.0.0,>=0.11.0\n",
            "  Downloading huggingface_hub-0.13.3-py3-none-any.whl (199 kB)\n",
            "     -------------------------------------- 199.8/199.8 kB 1.7 MB/s eta 0:00:00\n",
            "Requirement already satisfied: requests>=2.19.0 in c:\\users\\radue\\appdata\\local\\programs\\python\\python310\\lib\\site-packages (from datasets) (2.28.1)\n",
            "Requirement already satisfied: attrs>=17.3.0 in c:\\users\\radue\\appdata\\local\\programs\\python\\python310\\lib\\site-packages (from aiohttp->datasets) (22.2.0)\n",
            "Requirement already satisfied: multidict<7.0,>=4.5 in c:\\users\\radue\\appdata\\local\\programs\\python\\python310\\lib\\site-packages (from aiohttp->datasets) (6.0.4)\n",
            "Requirement already satisfied: yarl<2.0,>=1.0 in c:\\users\\radue\\appdata\\local\\programs\\python\\python310\\lib\\site-packages (from aiohttp->datasets) (1.8.2)\n",
            "Requirement already satisfied: aiosignal>=1.1.2 in c:\\users\\radue\\appdata\\local\\programs\\python\\python310\\lib\\site-packages (from aiohttp->datasets) (1.3.1)\n",
            "Requirement already satisfied: charset-normalizer<4.0,>=2.0 in c:\\users\\radue\\appdata\\local\\programs\\python\\python310\\lib\\site-packages (from aiohttp->datasets) (2.1.1)\n",
            "Requirement already satisfied: async-timeout<5.0,>=4.0.0a3 in c:\\users\\radue\\appdata\\local\\programs\\python\\python310\\lib\\site-packages (from aiohttp->datasets) (4.0.2)\n",
            "Requirement already satisfied: frozenlist>=1.1.1 in c:\\users\\radue\\appdata\\local\\programs\\python\\python310\\lib\\site-packages (from aiohttp->datasets) (1.3.3)\n",
            "Requirement already satisfied: typing-extensions>=3.7.4.3 in c:\\users\\radue\\appdata\\local\\programs\\python\\python310\\lib\\site-packages (from huggingface-hub<1.0.0,>=0.11.0->datasets) (4.4.0)\n",
            "Collecting filelock\n",
            "  Downloading filelock-3.10.7-py3-none-any.whl (10 kB)\n",
            "Requirement already satisfied: pyparsing!=3.0.5,>=2.0.2 in c:\\users\\radue\\appdata\\local\\programs\\python\\python310\\lib\\site-packages (from packaging->datasets) (3.0.9)\n",
            "Requirement already satisfied: idna<4,>=2.5 in c:\\users\\radue\\appdata\\local\\programs\\python\\python310\\lib\\site-packages (from requests>=2.19.0->datasets) (3.4)\n",
            "Requirement already satisfied: certifi>=2017.4.17 in c:\\users\\radue\\appdata\\local\\programs\\python\\python310\\lib\\site-packages (from requests>=2.19.0->datasets) (2022.9.24)\n",
            "Requirement already satisfied: urllib3<1.27,>=1.21.1 in c:\\users\\radue\\appdata\\local\\programs\\python\\python310\\lib\\site-packages (from requests>=2.19.0->datasets) (1.26.12)\n",
            "Requirement already satisfied: colorama in c:\\users\\radue\\appdata\\roaming\\python\\python310\\site-packages (from tqdm>=4.62.1->datasets) (0.4.6)\n",
            "Requirement already satisfied: python-dateutil>=2.8.1 in c:\\users\\radue\\appdata\\roaming\\python\\python310\\site-packages (from pandas->datasets) (2.8.2)\n",
            "Requirement already satisfied: pytz>=2020.1 in c:\\users\\radue\\appdata\\local\\programs\\python\\python310\\lib\\site-packages (from pandas->datasets) (2022.5)\n",
            "Requirement already satisfied: six>=1.5 in c:\\users\\radue\\appdata\\local\\programs\\python\\python310\\lib\\site-packages (from python-dateutil>=2.8.1->pandas->datasets) (1.16.0)\n",
            "Installing collected packages: xxhash, pyyaml, fsspec, filelock, dill, responses, multiprocess, huggingface-hub, datasets\n",
            "Successfully installed datasets-2.11.0 dill-0.3.6 filelock-3.10.7 fsspec-2023.3.0 huggingface-hub-0.13.3 multiprocess-0.70.14 pyyaml-6.0 responses-0.18.0 xxhash-3.2.0\n"
          ]
        }
      ],
      "source": [
        "! pip install datasets"
      ]
    },
    {
      "cell_type": "code",
      "execution_count": 2,
      "metadata": {
        "id": "uznKKMisaSe0"
      },
      "outputs": [
        {
          "name": "stderr",
          "output_type": "stream",
          "text": [
            "c:\\Users\\radue\\AppData\\Local\\Programs\\Python\\Python310\\lib\\site-packages\\tqdm\\auto.py:22: TqdmWarning: IProgress not found. Please update jupyter and ipywidgets. See https://ipywidgets.readthedocs.io/en/stable/user_install.html\n",
            "  from .autonotebook import tqdm as notebook_tqdm\n"
          ]
        }
      ],
      "source": [
        "import openai\n",
        "import numpy as np\n",
        "from datasets import load_dataset, list_datasets\n",
        "import pandas as pd\n",
        "import numpy as np\n",
        "\n",
        "openai.api_key = 'enter-your-api-key-here'"
      ]
    },
    {
      "attachments": {},
      "cell_type": "markdown",
      "metadata": {},
      "source": [
        "Test API key"
      ]
    },
    {
      "cell_type": "code",
      "execution_count": 37,
      "metadata": {},
      "outputs": [
        {
          "data": {
            "text/plain": [
              "<OpenAIObject text_completion id=cmpl-734v8iuIcbicXVKoYoKeaHFUM99jP at 0x1d913610d60> JSON: {\n",
              "  \"choices\": [\n",
              "    {\n",
              "      \"finish_reason\": \"length\",\n",
              "      \"index\": 0,\n",
              "      \"logprobs\": null,\n",
              "      \"text\": \". A transformer is a static device, which means it doesn't have any moving parts.\\n\\nThe primary winding of a transformer is the winding that is connected to the input voltage. The secondary winding is the winding that is connected to the output voltage. The primary and secondary windings are wrapped around a common iron core.\\n\\nWhen the primary winding is energized with an AC voltage, a magnetic field is set up in the iron core. This magnetic field induces a voltage in the secondary winding. The secondary voltage is proportional to the number of turns in the secondary winding, and is inversely proportional to the number of turns in the primary winding. This relationship is known as the transformer equation.\\n\\nThe transformer equation is:\\n\\nVsecondary = (Nsecondary / Nprimary) * Vprimary\\n\\nWhere:\\n\\nVsecondary is the secondary voltage\\n\\nNsecondary is the number of turns in the secondary winding\\n\\nNprimary is the number of turns in the primary winding\\n\\nVprimary is the primary voltage\\n\\nThe transformer equation can be used to calculate the secondary voltage if the primary voltage and the turns ratio are known. The transformer equation can also be used to calculate the primary voltage if the secondary voltage and the turns ratio are known.\\n\"\n",
              "    }\n",
              "  ],\n",
              "  \"created\": 1680968254,\n",
              "  \"id\": \"cmpl-734v8iuIcbicXVKoYoKeaHFUM99jP\",\n",
              "  \"model\": \"text-davinci-002\",\n",
              "  \"object\": \"text_completion\",\n",
              "  \"usage\": {\n",
              "    \"completion_tokens\": 256,\n",
              "    \"prompt_tokens\": 22,\n",
              "    \"total_tokens\": 278\n",
              "  }\n",
              "}"
            ]
          },
          "execution_count": 37,
          "metadata": {},
          "output_type": "execute_result"
        }
      ],
      "source": [
        "response = openai.Completion.create(\n",
        "      engine=\"text-davinci-002\",\n",
        "      prompt='A transformer is a device that uses electricity to transfer energy from one circuit to another through a process called electrical induction',\n",
        "      temperature=0.5,\n",
        "      max_tokens=256, # Recommended >256\n",
        "      frequency_penalty=0,\n",
        "      presence_penalty=0,\n",
        "      best_of=1, # Recommended =3,5\n",
        "      n=1\n",
        "  )\n",
        "response"
      ]
    },
    {
      "attachments": {},
      "cell_type": "markdown",
      "metadata": {
        "id": "K_0mH24CrZ0I"
      },
      "source": [
        "## Make ChatGPT Insertions into Human Text"
      ]
    },
    {
      "cell_type": "code",
      "execution_count": 2,
      "metadata": {
        "id": "V8F4Lk7QBpth"
      },
      "outputs": [],
      "source": [
        "def insert_machine_text(text: str, max_proportion: int):\n",
        "  text = text.strip()\n",
        "\n",
        "  n_chars = len(text)\n",
        "  if n_chars == 0:\n",
        "    raise Exception(\"Received empty string '' text\")\n",
        "  \n",
        "  action = np.random.choice(['prepend', 'insert', 'append'], size=1)\n",
        "  prefix_text = None\n",
        "  suffix_text = None\n",
        "  if action == 'prepend':\n",
        "    prefix_text = text\n",
        "  elif action == 'append':\n",
        "    suffix_text = text\n",
        "  else:\n",
        "    # Find white spaces in given text\n",
        "    white_space_idxs = [i for i, char in enumerate(text) if char == \" \"]\n",
        "    # Randomly choose where to insert text\n",
        "    split_idx = np.random.choice(white_space_idxs, size=1)\n",
        "    prefix_text = text[:split_idx]\n",
        "    suffix_text = text[split_idx:]\n",
        "\n",
        "  max_tokens = int(n_chars * max_proportion)\n",
        "\n",
        "  # Best practices: https://platform.openai.com/docs/guides/completion/inserting-text\n",
        "  response = openai.Completion.create(\n",
        "      engine=\"text-davinci-002\",\n",
        "      prompt=prefix_text,\n",
        "      suffix=suffix_text,\n",
        "      temperature=0.5,\n",
        "      max_tokens=max_tokens, # Recommended >256\n",
        "      frequency_penalty=0,\n",
        "      presence_penalty=0,\n",
        "      best_of=3, # Recommended =3,5\n",
        "      n=1\n",
        "  )\n",
        "  inserted_text = response.choices[0].text.strip()\n",
        "  full_text = prefix_text + inserted_text + suffix_text\n",
        "  return {\n",
        "      'prefix_text': prefix_text,\n",
        "      'inserted_text': inserted_text,\n",
        "      'suffix_text': suffix_text,\n",
        "      'machine_to_human_ratio': len(inserted_text) / len(prefix_text) + len(suffix_text) \n",
        "  }\n"
      ]
    },
    {
      "cell_type": "markdown",
      "metadata": {
        "id": "hrqlYZ0L92wd"
      },
      "source": [
        "$f(t) = \\sum_i \\alpha_i t_i$\n",
        "\n",
        "Let $f_i$ be the features of the model and $s_i, s_t$ be the text inputs corresponding to feature vectors $x_i$ and $t$, respectively.\n",
        "\n",
        "$t = (f_1(s_t) \\ f_2(s_t) \\ \\dots \\ f_n(s_t))$\n",
        "\n",
        "Since $t$ is a combination of human text with machine-generated text, we have that $t = (f_1(s_h : s_m) \\ f_2(s_h : s_m) \\ \\dots \\ f_n(s_h : s_m))$, where $:$ represents concatenation of strings.\n",
        "\n",
        "Assume features are proportionally additive and order of concatenation does not affect the value of the functions i.e., $f(s_i : s_j) = \\beta_{f,s_i,s_j} [f(s_i) + f(s_j)]$ and $f(s_i : s_j) = f(s_j : s_i)$. For example, for perplexity $\\beta_{i,j}$ can be $\\frac{}{}$\n",
        "\n",
        "$t = (f_1(s_h : s_m) \\ \\dots \\ f_n(s_h : s_m))$\n",
        "\n",
        "$= (\\beta_{f_1,h,m} [f_1(h) + f_1(m)] \\ \\dots \\ \\beta_{f_n, h, m} [f_n(h) + f_n(m)])$\n",
        "\n",
        "$ = b_{h,m} \\cdot (f(h) + f(m) \\ \\dots \\ f(h) + f(m))$\n",
        "\n",
        "Therefore,\n",
        "\n",
        "$f(t) = \\sum_i \\alpha_i \\beta_{f_i,h,m} [f_i(h) + f_i(m)]$\n",
        "$= \\sum_i \\alpha_i \\beta_{f_i,h,m} f_i(h) + \\sum_i \\alpha_i \\beta_{f_i,h,m} f_i(m)$\n",
        "\n",
        "If $\\beta_{f_i,h,m}$ is independent of $h$ and $m$, then:\n",
        "\n",
        "$f(t) = b \\cdot f(h) + b \\cdot f(m) = b \\cdot (f(h) + f(m))$ for all $t$ that are combinations of human and machine-generated text.\n",
        "\n",
        "Thus, $f(t)$ is proportional to\n"
      ]
    },
    {
      "attachments": {},
      "cell_type": "markdown",
      "metadata": {
        "id": "VMSQebavrV8y"
      },
      "source": [
        "### Make Rephrases of ChatGPT answers"
      ]
    },
    {
      "cell_type": "code",
      "execution_count": 3,
      "metadata": {
        "id": "VSmoLBVsBZwg"
      },
      "outputs": [],
      "source": [
        "df = pd.read_json('all.jsonl', lines=True)"
      ]
    },
    {
      "cell_type": "code",
      "execution_count": 4,
      "metadata": {
        "colab": {
          "base_uri": "https://localhost:8080/",
          "height": 423
        },
        "id": "2xlE9HByQJAz",
        "outputId": "31336c2b-f1e7-4c64-aceb-7edd754ee963"
      },
      "outputs": [
        {
          "data": {
            "text/plain": [
              "'A transformer is a device that uses electricity to transfer energy from one circuit to another through a process called electrical induction. It does this by using coils of wire and a magnetic field. \\nInside a transformer, there are two coils of wire called the primary coil and the secondary coil. The primary coil is connected to a source of electricity, such as a power outlet, and the secondary coil is connected to a device that needs electricity, such as a lamp. \\nWhen electricity flows through the primary coil, it creates a magnetic field around the coil. This magnetic field then causes a current to flow in the secondary coil, which creates its own magnetic field. The two magnetic fields interact with each other, causing energy to be transferred from the primary coil to the secondary coil. \\nThe amount of energy that is transferred depends on the number of coils in each of the primary and secondary coils. If the secondary coil has fewer coils than the primary coil, it will receive less energy, which means the voltage of the electricity in the secondary circuit will be lower than the voltage in the primary circuit. On the other hand, if the secondary coil has more coils than the primary coil, it will receive more energy, which means the voltage of the electricity in the secondary circuit will be higher than the voltage in the primary circuit. \\nDoes this help to explain how a transformer works?'"
            ]
          },
          "execution_count": 4,
          "metadata": {},
          "output_type": "execute_result"
        }
      ],
      "source": [
        "df['chatgpt_answers'][100][0]"
      ]
    },
    {
      "cell_type": "markdown",
      "metadata": {
        "id": "XvFyZLd1OeUu"
      },
      "source": [
        "Find max number of tokens in first 2k points in dataset ([1 token is approx. 4 chars in English](https://help.openai.com/en/articles/4936856-what-are-tokens-and-how-to-count-them))."
      ]
    },
    {
      "cell_type": "code",
      "execution_count": 5,
      "metadata": {
        "colab": {
          "base_uri": "https://localhost:8080/"
        },
        "id": "0HK_gRI1O0E1",
        "outputId": "62ce456e-467e-4efb-e208-1227b9f3e9e6"
      },
      "outputs": [
        {
          "ename": "ValueError",
          "evalue": "zero-size array to reduction operation maximum which has no identity",
          "output_type": "error",
          "traceback": [
            "\u001b[1;31m---------------------------------------------------------------------------\u001b[0m",
            "\u001b[1;31mValueError\u001b[0m                                Traceback (most recent call last)",
            "Cell \u001b[1;32mIn[5], line 6\u001b[0m\n\u001b[0;32m      4\u001b[0m \u001b[39mfor\u001b[39;00m answers \u001b[39min\u001b[39;00m df[\u001b[39m'\u001b[39m\u001b[39mchatgpt_answers\u001b[39m\u001b[39m'\u001b[39m]:\n\u001b[0;32m      5\u001b[0m   n_answers_total \u001b[39m+\u001b[39m\u001b[39m=\u001b[39m \u001b[39mlen\u001b[39m(answers)\n\u001b[1;32m----> 6\u001b[0m   n_tokens_max \u001b[39m=\u001b[39m np\u001b[39m.\u001b[39;49mmax([\u001b[39mlen\u001b[39;49m(answer) \u001b[39m/\u001b[39;49m \u001b[39m4\u001b[39;49m \u001b[39mfor\u001b[39;49;00m answer \u001b[39min\u001b[39;49;00m answers])\n\u001b[0;32m      7\u001b[0m   n_tokens_total \u001b[39m+\u001b[39m\u001b[39m=\u001b[39m np\u001b[39m.\u001b[39msum([\u001b[39mlen\u001b[39m(answer) \u001b[39m/\u001b[39m \u001b[39m4\u001b[39m \u001b[39mfor\u001b[39;00m answer \u001b[39min\u001b[39;00m answers])\n\u001b[0;32m      8\u001b[0m   tokens_count_list\u001b[39m.\u001b[39mappend(n_tokens_max)\n",
            "File \u001b[1;32m<__array_function__ internals>:180\u001b[0m, in \u001b[0;36mamax\u001b[1;34m(*args, **kwargs)\u001b[0m\n",
            "File \u001b[1;32mc:\\Users\\radue\\AppData\\Local\\Programs\\Python\\Python310\\lib\\site-packages\\numpy\\core\\fromnumeric.py:2793\u001b[0m, in \u001b[0;36mamax\u001b[1;34m(a, axis, out, keepdims, initial, where)\u001b[0m\n\u001b[0;32m   2677\u001b[0m \u001b[39m@array_function_dispatch\u001b[39m(_amax_dispatcher)\n\u001b[0;32m   2678\u001b[0m \u001b[39mdef\u001b[39;00m \u001b[39mamax\u001b[39m(a, axis\u001b[39m=\u001b[39m\u001b[39mNone\u001b[39;00m, out\u001b[39m=\u001b[39m\u001b[39mNone\u001b[39;00m, keepdims\u001b[39m=\u001b[39mnp\u001b[39m.\u001b[39m_NoValue, initial\u001b[39m=\u001b[39mnp\u001b[39m.\u001b[39m_NoValue,\n\u001b[0;32m   2679\u001b[0m          where\u001b[39m=\u001b[39mnp\u001b[39m.\u001b[39m_NoValue):\n\u001b[0;32m   2680\u001b[0m \u001b[39m    \u001b[39m\u001b[39m\"\"\"\u001b[39;00m\n\u001b[0;32m   2681\u001b[0m \u001b[39m    Return the maximum of an array or maximum along an axis.\u001b[39;00m\n\u001b[0;32m   2682\u001b[0m \n\u001b[1;32m   (...)\u001b[0m\n\u001b[0;32m   2791\u001b[0m \u001b[39m    5\u001b[39;00m\n\u001b[0;32m   2792\u001b[0m \u001b[39m    \"\"\"\u001b[39;00m\n\u001b[1;32m-> 2793\u001b[0m     \u001b[39mreturn\u001b[39;00m _wrapreduction(a, np\u001b[39m.\u001b[39;49mmaximum, \u001b[39m'\u001b[39;49m\u001b[39mmax\u001b[39;49m\u001b[39m'\u001b[39;49m, axis, \u001b[39mNone\u001b[39;49;00m, out,\n\u001b[0;32m   2794\u001b[0m                           keepdims\u001b[39m=\u001b[39;49mkeepdims, initial\u001b[39m=\u001b[39;49minitial, where\u001b[39m=\u001b[39;49mwhere)\n",
            "File \u001b[1;32mc:\\Users\\radue\\AppData\\Local\\Programs\\Python\\Python310\\lib\\site-packages\\numpy\\core\\fromnumeric.py:86\u001b[0m, in \u001b[0;36m_wrapreduction\u001b[1;34m(obj, ufunc, method, axis, dtype, out, **kwargs)\u001b[0m\n\u001b[0;32m     83\u001b[0m         \u001b[39melse\u001b[39;00m:\n\u001b[0;32m     84\u001b[0m             \u001b[39mreturn\u001b[39;00m reduction(axis\u001b[39m=\u001b[39maxis, out\u001b[39m=\u001b[39mout, \u001b[39m*\u001b[39m\u001b[39m*\u001b[39mpasskwargs)\n\u001b[1;32m---> 86\u001b[0m \u001b[39mreturn\u001b[39;00m ufunc\u001b[39m.\u001b[39mreduce(obj, axis, dtype, out, \u001b[39m*\u001b[39m\u001b[39m*\u001b[39mpasskwargs)\n",
            "\u001b[1;31mValueError\u001b[0m: zero-size array to reduction operation maximum which has no identity"
          ]
        }
      ],
      "source": [
        "n_answers_total = 0\n",
        "n_tokens_total = 0\n",
        "tokens_count_list = []\n",
        "for answers in df['chatgpt_answers']:\n",
        "  n_answers_total += len(answers)\n",
        "  n_tokens_max = np.max([len(answer) / 4 for answer in answers])\n",
        "  n_tokens_total += np.sum([len(answer) / 4 for answer in answers])\n",
        "  tokens_count_list.append(n_tokens_max)\n",
        "  \n",
        "print('Num max tokens per chatgpt_answers column = %.2f' % np.max(tokens_count_list))\n",
        "print('Avg num tokens per chatgpt_answers column = %.2f' % (n_tokens_total / n_answers_total))"
      ]
    },
    {
      "cell_type": "code",
      "execution_count": null,
      "metadata": {
        "colab": {
          "base_uri": "https://localhost:8080/"
        },
        "id": "193ZsJLvPUCn",
        "outputId": "bdeca1d9-8fc8-4be6-922e-7538fbca62c8"
      },
      "outputs": [
        {
          "name": "stdout",
          "output_type": "stream",
          "text": [
            "Num max tokens per human_answers column = 9198.25\n",
            "Avg num tokens per human_answers column = 170.17\n"
          ]
        }
      ],
      "source": [
        "n_answers_total = 0\n",
        "n_tokens_total = 0\n",
        "tokens_count_list = []\n",
        "for answers in df['human_answers']:\n",
        "  n_answers_total += len(answers)\n",
        "  n_tokens_max = np.max([len(answer) / 4 for answer in answers])\n",
        "  n_tokens_total += np.sum([len(answer) / 4 for answer in answers])\n",
        "  tokens_count_list.append(n_tokens_max)\n",
        "\n",
        "print('Num max tokens per human_answers column = %.2f' % np.max(tokens_count_list))\n",
        "print('Avg num tokens per human_answers column = %.2f' % (n_tokens_total / n_answers_total))"
      ]
    },
    {
      "cell_type": "code",
      "execution_count": null,
      "metadata": {},
      "outputs": [
        {
          "data": {
            "text/plain": [
              "(24322, 5)"
            ]
          },
          "execution_count": 38,
          "metadata": {},
          "output_type": "execute_result"
        }
      ],
      "source": [
        "df.shape"
      ]
    },
    {
      "attachments": {},
      "cell_type": "markdown",
      "metadata": {},
      "source": [
        "Send rephrasing requests to ChatGPT API"
      ]
    },
    {
      "cell_type": "code",
      "execution_count": 7,
      "metadata": {
        "id": "PUkNirkCfrX4"
      },
      "outputs": [
        {
          "name": "stdout",
          "output_type": "stream",
          "text": [
            "Got 0 empty responses in batch 5250-5500\n",
            "Got 0 empty responses in batch 5250-5500\n",
            "Got 0 empty responses in batch 5250-5500\n",
            "Got 0 empty responses in batch 5250-5500\n",
            "Got 0 empty responses in batch 5250-5500\n",
            "Got 0 empty responses in batch 5250-5500\n",
            "Got 0 empty responses in batch 5250-5500\n",
            "Got 0 empty responses in batch 5250-5500\n",
            "Got 0 empty responses in batch 5250-5500\n",
            "Got 0 empty responses in batch 5250-5500\n",
            "Got 0 empty responses in batch 5250-5500\n",
            "Got 0 empty responses in batch 5250-5500\n",
            "Got 0 empty responses in batch 5250-5500\n",
            "Got 0 empty responses in batch 5250-5500\n",
            "Got 0 empty responses in batch 5250-5500\n",
            "Got 0 empty responses in batch 5250-5500\n",
            "Got 0 empty responses in batch 5250-5500\n",
            "Got 0 empty responses in batch 5250-5500\n",
            "Got 0 empty responses in batch 5250-5500\n",
            "Got 0 empty responses in batch 5250-5500\n",
            "Got 0 empty responses in batch 5250-5500\n",
            "Got 0 empty responses in batch 5250-5500\n",
            "Got 0 empty responses in batch 5250-5500\n",
            "Got 0 empty responses in batch 5250-5500\n",
            "Got 0 empty responses in batch 5250-5500\n",
            "Got 0 empty responses in batch 5250-5500\n",
            "Got 0 empty responses in batch 5250-5500\n",
            "Got 0 empty responses in batch 5250-5500\n",
            "Got 0 empty responses in batch 5250-5500\n",
            "Got 0 empty responses in batch 5250-5500\n",
            "Got 0 empty responses in batch 5250-5500\n",
            "Got 0 empty responses in batch 5250-5500\n",
            "Got 0 empty responses in batch 5250-5500\n",
            "Got 0 empty responses in batch 5250-5500\n",
            "Got 0 empty responses in batch 5250-5500\n",
            "Got 0 empty responses in batch 5250-5500\n",
            "Got 0 empty responses in batch 5250-5500\n",
            "Got 0 empty responses in batch 5250-5500\n",
            "Got 0 empty responses in batch 5250-5500\n",
            "Got 0 empty responses in batch 5250-5500\n",
            "Got 0 empty responses in batch 5250-5500\n",
            "Got 0 empty responses in batch 5250-5500\n",
            "Got 0 empty responses in batch 5250-5500\n",
            "Got 0 empty responses in batch 5250-5500\n",
            "Got 0 empty responses in batch 5250-5500\n",
            "Got 0 empty responses in batch 5250-5500\n",
            "Got 0 empty responses in batch 5250-5500\n",
            "Got 0 empty responses in batch 5250-5500\n",
            "Got 0 empty responses in batch 5250-5500\n",
            "Got 0 empty responses in batch 5250-5500\n",
            "Got 0 empty responses in batch 5250-5500\n",
            "Got 0 empty responses in batch 5250-5500\n",
            "Got 0 empty responses in batch 5250-5500\n",
            "Got 0 empty responses in batch 5250-5500\n",
            "Got 0 empty responses in batch 5250-5500\n",
            "Got 0 empty responses in batch 5250-5500\n",
            "Got 0 empty responses in batch 5250-5500\n",
            "Got 0 empty responses in batch 5250-5500\n",
            "Got 0 empty responses in batch 5250-5500\n",
            "Got 0 empty responses in batch 5250-5500\n",
            "Got 0 empty responses in batch 5250-5500\n",
            "Got 0 empty responses in batch 5250-5500\n",
            "Got 0 empty responses in batch 5250-5500\n",
            "Got 0 empty responses in batch 5250-5500\n",
            "Got 0 empty responses in batch 5250-5500\n",
            "Got 0 empty responses in batch 5250-5500\n",
            "Got 0 empty responses in batch 5250-5500\n",
            "Got 0 empty responses in batch 5250-5500\n",
            "Got 0 empty responses in batch 5250-5500\n",
            "Got 0 empty responses in batch 5250-5500\n",
            "Got 0 empty responses in batch 5250-5500\n",
            "Got 0 empty responses in batch 5250-5500\n",
            "Got 0 empty responses in batch 5250-5500\n",
            "Got 0 empty responses in batch 5250-5500\n",
            "Got 0 empty responses in batch 5250-5500\n",
            "Got 0 empty responses in batch 5250-5500\n",
            "Got 0 empty responses in batch 5250-5500\n",
            "Got 0 empty responses in batch 5250-5500\n",
            "Got 0 empty responses in batch 5250-5500\n",
            "Got 0 empty responses in batch 5250-5500\n",
            "Got 0 empty responses in batch 5250-5500\n",
            "Got 0 empty responses in batch 5250-5500\n",
            "Got 0 empty responses in batch 5250-5500\n",
            "Got 0 empty responses in batch 5250-5500\n",
            "Got 0 empty responses in batch 5250-5500\n",
            "Got 0 empty responses in batch 5250-5500\n",
            "Got 0 empty responses in batch 5250-5500\n",
            "Got 0 empty responses in batch 5250-5500\n",
            "Got 0 empty responses in batch 5250-5500\n",
            "Got 0 empty responses in batch 5250-5500\n",
            "Got 0 empty responses in batch 5250-5500\n",
            "Got 0 empty responses in batch 5250-5500\n",
            "Got 0 empty responses in batch 5250-5500\n",
            "Got 0 empty responses in batch 5250-5500\n",
            "Got 0 empty responses in batch 5250-5500\n",
            "Got 0 empty responses in batch 5250-5500\n",
            "Got 0 empty responses in batch 5250-5500\n",
            "Got 0 empty responses in batch 5250-5500\n",
            "Got 0 empty responses in batch 5250-5500\n",
            "Got 0 empty responses in batch 5250-5500\n",
            "Got 0 empty responses in batch 5250-5500\n",
            "Got 0 empty responses in batch 5250-5500\n",
            "Got 0 empty responses in batch 5250-5500\n",
            "Got 0 empty responses in batch 5250-5500\n",
            "Got 0 empty responses in batch 5250-5500\n",
            "Got 0 empty responses in batch 5250-5500\n",
            "Got 0 empty responses in batch 5250-5500\n",
            "Got 0 empty responses in batch 5250-5500\n",
            "Got 0 empty responses in batch 5250-5500\n",
            "Got 0 empty responses in batch 5250-5500\n",
            "Got 0 empty responses in batch 5250-5500\n",
            "Got 0 empty responses in batch 5250-5500\n",
            "Got 0 empty responses in batch 5250-5500\n",
            "Got 0 empty responses in batch 5250-5500\n",
            "Got 0 empty responses in batch 5250-5500\n",
            "Got 0 empty responses in batch 5250-5500\n",
            "Got 0 empty responses in batch 5250-5500\n",
            "Got 0 empty responses in batch 5250-5500\n",
            "Got 0 empty responses in batch 5250-5500\n",
            "Got 0 empty responses in batch 5250-5500\n",
            "Got 0 empty responses in batch 5250-5500\n",
            "Got 0 empty responses in batch 5250-5500\n",
            "Got 0 empty responses in batch 5250-5500\n",
            "Got 0 empty responses in batch 5250-5500\n",
            "Got 0 empty responses in batch 5250-5500\n",
            "Got 0 empty responses in batch 5250-5500\n",
            "Got 0 empty responses in batch 5250-5500\n",
            "Got 0 empty responses in batch 5250-5500\n",
            "Got 0 empty responses in batch 5250-5500\n",
            "Got 0 empty responses in batch 5250-5500\n",
            "Got 0 empty responses in batch 5250-5500\n",
            "Got 0 empty responses in batch 5250-5500\n",
            "Got 0 empty responses in batch 5250-5500\n",
            "Got 0 empty responses in batch 5250-5500\n",
            "Got 0 empty responses in batch 5250-5500\n",
            "Got 0 empty responses in batch 5250-5500\n",
            "Got 0 empty responses in batch 5250-5500\n",
            "Got 0 empty responses in batch 5250-5500\n",
            "Got 0 empty responses in batch 5250-5500\n",
            "Got 0 empty responses in batch 5250-5500\n",
            "Got 0 empty responses in batch 5250-5500\n",
            "Got 0 empty responses in batch 5250-5500\n",
            "Got 0 empty responses in batch 5250-5500\n",
            "Got 0 empty responses in batch 5250-5500\n",
            "Got 0 empty responses in batch 5250-5500\n",
            "Got 0 empty responses in batch 5250-5500\n",
            "Got 0 empty responses in batch 5250-5500\n",
            "Got 0 empty responses in batch 5250-5500\n",
            "Got 0 empty responses in batch 5250-5500\n",
            "Got 0 empty responses in batch 5250-5500\n",
            "Got 0 empty responses in batch 5250-5500\n",
            "Got 0 empty responses in batch 5250-5500\n",
            "Got 0 empty responses in batch 5250-5500\n",
            "Got 0 empty responses in batch 5250-5500\n",
            "Got 0 empty responses in batch 5250-5500\n",
            "Got 0 empty responses in batch 5250-5500\n",
            "Got 0 empty responses in batch 5250-5500\n",
            "Got 0 empty responses in batch 5250-5500\n",
            "Got 0 empty responses in batch 5250-5500\n",
            "Got 0 empty responses in batch 5250-5500\n",
            "Got 0 empty responses in batch 5250-5500\n",
            "Got 0 empty responses in batch 5250-5500\n",
            "Got 0 empty responses in batch 5250-5500\n",
            "Got 0 empty responses in batch 5250-5500\n",
            "Got 0 empty responses in batch 5250-5500\n",
            "Got 0 empty responses in batch 5250-5500\n",
            "Got 0 empty responses in batch 5250-5500\n",
            "Got 0 empty responses in batch 5250-5500\n",
            "Got 0 empty responses in batch 5250-5500\n",
            "Got 0 empty responses in batch 5250-5500\n",
            "Got 0 empty responses in batch 5250-5500\n",
            "Got 0 empty responses in batch 5250-5500\n",
            "Got 0 empty responses in batch 5250-5500\n",
            "Got 0 empty responses in batch 5250-5500\n",
            "Got 0 empty responses in batch 5250-5500\n",
            "Got 0 empty responses in batch 5250-5500\n",
            "Got 0 empty responses in batch 5250-5500\n",
            "Got 0 empty responses in batch 5250-5500\n",
            "Got 0 empty responses in batch 5250-5500\n",
            "Got 0 empty responses in batch 5250-5500\n",
            "Got 0 empty responses in batch 5250-5500\n",
            "Got 0 empty responses in batch 5250-5500\n",
            "Got 0 empty responses in batch 5250-5500\n",
            "Got 0 empty responses in batch 5250-5500\n",
            "Got 0 empty responses in batch 5250-5500\n",
            "Got 0 empty responses in batch 5250-5500\n",
            "Got 0 empty responses in batch 5250-5500\n",
            "Got 0 empty responses in batch 5250-5500\n",
            "Got 0 empty responses in batch 5250-5500\n",
            "Got 0 empty responses in batch 5250-5500\n",
            "Got 0 empty responses in batch 5250-5500\n",
            "Got 0 empty responses in batch 5250-5500\n",
            "Got 0 empty responses in batch 5250-5500\n",
            "Got 0 empty responses in batch 5250-5500\n",
            "Got 0 empty responses in batch 5250-5500\n",
            "Got 0 empty responses in batch 5250-5500\n",
            "Got 0 empty responses in batch 5250-5500\n",
            "Got 0 empty responses in batch 5250-5500\n",
            "Got 0 empty responses in batch 5250-5500\n",
            "Got 0 empty responses in batch 5250-5500\n",
            "Got 0 empty responses in batch 5250-5500\n",
            "Got 0 empty responses in batch 5250-5500\n",
            "Got 0 empty responses in batch 5250-5500\n",
            "Got 0 empty responses in batch 5250-5500\n",
            "Got 0 empty responses in batch 5250-5500\n",
            "Got 0 empty responses in batch 5250-5500\n",
            "Got 0 empty responses in batch 5250-5500\n",
            "Got 0 empty responses in batch 5250-5500\n",
            "Got 0 empty responses in batch 5250-5500\n",
            "Got 0 empty responses in batch 5250-5500\n",
            "Got 0 empty responses in batch 5250-5500\n",
            "Got 0 empty responses in batch 5250-5500\n",
            "Got 0 empty responses in batch 5250-5500\n",
            "Got 0 empty responses in batch 5250-5500\n",
            "Got 0 empty responses in batch 5250-5500\n",
            "Got 0 empty responses in batch 5250-5500\n",
            "Got 0 empty responses in batch 5250-5500\n",
            "Got 0 empty responses in batch 5250-5500\n",
            "Got 0 empty responses in batch 5250-5500\n",
            "Got 0 empty responses in batch 5250-5500\n",
            "Got 0 empty responses in batch 5250-5500\n",
            "Got 0 empty responses in batch 5250-5500\n",
            "Got 0 empty responses in batch 5250-5500\n",
            "Got 0 empty responses in batch 5250-5500\n",
            "Got 0 empty responses in batch 5250-5500\n",
            "Got 0 empty responses in batch 5250-5500\n",
            "Got 0 empty responses in batch 5250-5500\n",
            "Got 0 empty responses in batch 5250-5500\n",
            "Got 0 empty responses in batch 5250-5500\n",
            "Got 0 empty responses in batch 5250-5500\n",
            "Got 0 empty responses in batch 5250-5500\n",
            "Got 0 empty responses in batch 5250-5500\n",
            "Got 0 empty responses in batch 5250-5500\n",
            "Got 0 empty responses in batch 5250-5500\n",
            "Got 0 empty responses in batch 5250-5500\n",
            "Got 0 empty responses in batch 5250-5500\n",
            "Got 0 empty responses in batch 5250-5500\n",
            "Got 0 empty responses in batch 5250-5500\n",
            "Got 0 empty responses in batch 5250-5500\n",
            "Got 0 empty responses in batch 5250-5500\n",
            "Got 0 empty responses in batch 5250-5500\n",
            "Got 0 empty responses in batch 5250-5500\n",
            "Got 0 empty responses in batch 5250-5500\n",
            "Got 0 empty responses in batch 5250-5500\n",
            "Got 0 empty responses in batch 5250-5500\n",
            "Got 0 empty responses in batch 5250-5500\n",
            "Got 0 empty responses in batch 5250-5500\n",
            "Got 0 empty responses in batch 5250-5500\n",
            "Got 0 empty responses in batch 5250-5500\n",
            "Got 0 empty responses in batch 5250-5500\n",
            "Got 0 empty responses in batch 5500-5750\n",
            "Got 0 empty responses in batch 5500-5750\n",
            "Got 0 empty responses in batch 5500-5750\n",
            "Got 0 empty responses in batch 5500-5750\n",
            "Got 0 empty responses in batch 5500-5750\n",
            "Got 0 empty responses in batch 5500-5750\n",
            "Got 0 empty responses in batch 5500-5750\n",
            "Got 0 empty responses in batch 5500-5750\n",
            "Got 0 empty responses in batch 5500-5750\n",
            "Got 0 empty responses in batch 5500-5750\n",
            "Got 0 empty responses in batch 5500-5750\n",
            "Got 0 empty responses in batch 5500-5750\n",
            "Got 0 empty responses in batch 5500-5750\n",
            "Got 0 empty responses in batch 5500-5750\n",
            "Got 0 empty responses in batch 5500-5750\n",
            "Got 0 empty responses in batch 5500-5750\n",
            "Got 0 empty responses in batch 5500-5750\n",
            "Got 0 empty responses in batch 5500-5750\n",
            "Got 0 empty responses in batch 5500-5750\n",
            "Got 0 empty responses in batch 5500-5750\n",
            "Got 0 empty responses in batch 5500-5750\n",
            "Got 0 empty responses in batch 5500-5750\n",
            "Got 0 empty responses in batch 5500-5750\n",
            "Got 0 empty responses in batch 5500-5750\n",
            "Got 0 empty responses in batch 5500-5750\n",
            "Got 0 empty responses in batch 5500-5750\n",
            "Got 0 empty responses in batch 5500-5750\n",
            "Got 0 empty responses in batch 5500-5750\n",
            "Got 0 empty responses in batch 5500-5750\n",
            "Got 0 empty responses in batch 5500-5750\n",
            "Got 0 empty responses in batch 5500-5750\n",
            "Got 0 empty responses in batch 5500-5750\n",
            "Got 0 empty responses in batch 5500-5750\n",
            "Got 0 empty responses in batch 5500-5750\n",
            "Got 0 empty responses in batch 5500-5750\n",
            "Got 0 empty responses in batch 5500-5750\n",
            "Got 0 empty responses in batch 5500-5750\n",
            "Got 0 empty responses in batch 5500-5750\n",
            "Got 0 empty responses in batch 5500-5750\n",
            "Got 0 empty responses in batch 5500-5750\n",
            "Got 0 empty responses in batch 5500-5750\n",
            "Got 0 empty responses in batch 5500-5750\n",
            "Got 0 empty responses in batch 5500-5750\n",
            "Got 0 empty responses in batch 5500-5750\n",
            "Got 0 empty responses in batch 5500-5750\n",
            "Got 0 empty responses in batch 5500-5750\n",
            "Got 0 empty responses in batch 5500-5750\n",
            "Got 0 empty responses in batch 5500-5750\n",
            "Got 0 empty responses in batch 5500-5750\n",
            "Got 0 empty responses in batch 5500-5750\n",
            "Got 0 empty responses in batch 5500-5750\n",
            "Got 0 empty responses in batch 5500-5750\n",
            "Got 0 empty responses in batch 5500-5750\n",
            "Got 0 empty responses in batch 5500-5750\n",
            "Got 0 empty responses in batch 5500-5750\n",
            "Got 0 empty responses in batch 5500-5750\n",
            "Got 0 empty responses in batch 5500-5750\n",
            "Got 0 empty responses in batch 5500-5750\n",
            "Got 0 empty responses in batch 5500-5750\n",
            "Got 0 empty responses in batch 5500-5750\n",
            "Got 0 empty responses in batch 5500-5750\n",
            "Got 0 empty responses in batch 5500-5750\n",
            "Got 0 empty responses in batch 5500-5750\n",
            "Got 0 empty responses in batch 5500-5750\n",
            "Got 0 empty responses in batch 5500-5750\n",
            "Got 0 empty responses in batch 5500-5750\n",
            "Got 0 empty responses in batch 5500-5750\n",
            "Got 0 empty responses in batch 5500-5750\n",
            "Got 0 empty responses in batch 5500-5750\n",
            "Got 0 empty responses in batch 5500-5750\n",
            "Got 0 empty responses in batch 5500-5750\n",
            "Got 0 empty responses in batch 5500-5750\n",
            "Got 0 empty responses in batch 5500-5750\n",
            "Got 0 empty responses in batch 5500-5750\n",
            "Got 0 empty responses in batch 5500-5750\n",
            "Got 0 empty responses in batch 5500-5750\n",
            "Got 0 empty responses in batch 5500-5750\n",
            "Got 0 empty responses in batch 5500-5750\n",
            "Got 0 empty responses in batch 5500-5750\n",
            "Got 0 empty responses in batch 5500-5750\n",
            "Got 0 empty responses in batch 5500-5750\n",
            "Got 0 empty responses in batch 5500-5750\n",
            "Got 0 empty responses in batch 5500-5750\n",
            "Got 0 empty responses in batch 5500-5750\n",
            "Got 0 empty responses in batch 5500-5750\n",
            "Got 0 empty responses in batch 5500-5750\n",
            "Got 0 empty responses in batch 5500-5750\n",
            "Got 0 empty responses in batch 5500-5750\n",
            "Got 0 empty responses in batch 5500-5750\n",
            "Got 0 empty responses in batch 5500-5750\n",
            "Got 0 empty responses in batch 5500-5750\n",
            "Got 0 empty responses in batch 5500-5750\n",
            "Got 0 empty responses in batch 5500-5750\n",
            "Got 0 empty responses in batch 5500-5750\n",
            "Got 0 empty responses in batch 5500-5750\n",
            "Got 0 empty responses in batch 5500-5750\n",
            "Got 0 empty responses in batch 5500-5750\n",
            "Got 0 empty responses in batch 5500-5750\n",
            "Got 0 empty responses in batch 5500-5750\n",
            "Got 0 empty responses in batch 5500-5750\n",
            "Got 0 empty responses in batch 5500-5750\n",
            "Got 0 empty responses in batch 5500-5750\n",
            "Got 0 empty responses in batch 5500-5750\n",
            "Got 0 empty responses in batch 5500-5750\n",
            "Got 0 empty responses in batch 5500-5750\n",
            "Got 0 empty responses in batch 5500-5750\n",
            "Got 0 empty responses in batch 5500-5750\n",
            "Got 0 empty responses in batch 5500-5750\n",
            "Got 0 empty responses in batch 5500-5750\n",
            "Got 0 empty responses in batch 5500-5750\n",
            "Got 0 empty responses in batch 5500-5750\n",
            "Got 0 empty responses in batch 5500-5750\n",
            "Got 0 empty responses in batch 5500-5750\n",
            "Got 0 empty responses in batch 5500-5750\n",
            "Got 0 empty responses in batch 5500-5750\n",
            "Got 0 empty responses in batch 5500-5750\n",
            "Got 0 empty responses in batch 5500-5750\n",
            "Got 0 empty responses in batch 5500-5750\n",
            "Got 0 empty responses in batch 5500-5750\n",
            "Got 0 empty responses in batch 5500-5750\n",
            "Got 0 empty responses in batch 5500-5750\n",
            "Got 0 empty responses in batch 5500-5750\n",
            "Got 0 empty responses in batch 5500-5750\n",
            "Got 0 empty responses in batch 5500-5750\n",
            "Got 0 empty responses in batch 5500-5750\n",
            "Got 0 empty responses in batch 5500-5750\n",
            "Got 0 empty responses in batch 5500-5750\n",
            "Got 0 empty responses in batch 5500-5750\n",
            "Got 0 empty responses in batch 5500-5750\n",
            "Got 0 empty responses in batch 5500-5750\n",
            "Got 0 empty responses in batch 5500-5750\n",
            "Got 0 empty responses in batch 5500-5750\n",
            "Got 0 empty responses in batch 5500-5750\n",
            "Got 0 empty responses in batch 5500-5750\n",
            "Got 0 empty responses in batch 5500-5750\n",
            "Got 0 empty responses in batch 5500-5750\n",
            "Got 0 empty responses in batch 5500-5750\n",
            "Got 0 empty responses in batch 5500-5750\n",
            "Got 0 empty responses in batch 5500-5750\n",
            "Got 0 empty responses in batch 5500-5750\n",
            "Got 0 empty responses in batch 5500-5750\n",
            "Got 0 empty responses in batch 5500-5750\n",
            "Got 0 empty responses in batch 5500-5750\n",
            "Got 0 empty responses in batch 5500-5750\n",
            "Got 0 empty responses in batch 5500-5750\n",
            "Got 0 empty responses in batch 5500-5750\n",
            "Got 0 empty responses in batch 5500-5750\n",
            "Got 0 empty responses in batch 5500-5750\n",
            "Got 0 empty responses in batch 5500-5750\n",
            "Got 0 empty responses in batch 5500-5750\n",
            "Got 0 empty responses in batch 5500-5750\n",
            "Got 0 empty responses in batch 5500-5750\n",
            "Got 0 empty responses in batch 5500-5750\n",
            "Got 0 empty responses in batch 5500-5750\n",
            "Got 0 empty responses in batch 5500-5750\n",
            "Got 0 empty responses in batch 5500-5750\n",
            "Got 0 empty responses in batch 5500-5750\n",
            "Got 0 empty responses in batch 5500-5750\n",
            "Got 0 empty responses in batch 5500-5750\n",
            "Got 0 empty responses in batch 5500-5750\n",
            "Got 0 empty responses in batch 5500-5750\n",
            "Got 0 empty responses in batch 5500-5750\n",
            "Got 0 empty responses in batch 5500-5750\n",
            "Got 0 empty responses in batch 5500-5750\n",
            "Got 0 empty responses in batch 5500-5750\n",
            "Got 0 empty responses in batch 5500-5750\n",
            "Got 0 empty responses in batch 5500-5750\n",
            "Got 0 empty responses in batch 5500-5750\n",
            "Got 0 empty responses in batch 5500-5750\n",
            "Got 0 empty responses in batch 5500-5750\n",
            "Got 0 empty responses in batch 5500-5750\n",
            "Got 0 empty responses in batch 5500-5750\n",
            "Got 0 empty responses in batch 5500-5750\n",
            "Got 0 empty responses in batch 5500-5750\n",
            "Got 0 empty responses in batch 5500-5750\n",
            "Got 0 empty responses in batch 5500-5750\n",
            "Got 0 empty responses in batch 5500-5750\n",
            "Got 0 empty responses in batch 5500-5750\n",
            "Got 0 empty responses in batch 5500-5750\n",
            "Got 0 empty responses in batch 5500-5750\n",
            "Got 0 empty responses in batch 5500-5750\n",
            "Got 0 empty responses in batch 5500-5750\n",
            "Got 0 empty responses in batch 5500-5750\n",
            "Got 0 empty responses in batch 5500-5750\n",
            "Got 0 empty responses in batch 5500-5750\n",
            "Got 0 empty responses in batch 5500-5750\n",
            "Got 0 empty responses in batch 5500-5750\n",
            "Got 0 empty responses in batch 5500-5750\n",
            "Got 0 empty responses in batch 5500-5750\n",
            "Got 0 empty responses in batch 5500-5750\n",
            "Got 0 empty responses in batch 5500-5750\n",
            "Got 0 empty responses in batch 5500-5750\n",
            "Got 0 empty responses in batch 5500-5750\n",
            "Got 0 empty responses in batch 5500-5750\n",
            "Got 0 empty responses in batch 5500-5750\n",
            "Got 0 empty responses in batch 5500-5750\n",
            "Got 0 empty responses in batch 5500-5750\n",
            "Got 0 empty responses in batch 5500-5750\n",
            "Got 0 empty responses in batch 5500-5750\n",
            "Got 0 empty responses in batch 5500-5750\n",
            "Got 0 empty responses in batch 5500-5750\n",
            "Got 0 empty responses in batch 5500-5750\n",
            "Got 0 empty responses in batch 5500-5750\n",
            "Got 0 empty responses in batch 5500-5750\n",
            "Got 0 empty responses in batch 5500-5750\n",
            "Got 0 empty responses in batch 5500-5750\n",
            "Got 0 empty responses in batch 5500-5750\n",
            "Got 0 empty responses in batch 5500-5750\n",
            "Got 0 empty responses in batch 5500-5750\n",
            "Got 0 empty responses in batch 5500-5750\n",
            "Got 0 empty responses in batch 5500-5750\n",
            "Got 0 empty responses in batch 5500-5750\n",
            "Got 0 empty responses in batch 5500-5750\n",
            "Got 0 empty responses in batch 5500-5750\n",
            "Got 0 empty responses in batch 5500-5750\n",
            "Got 0 empty responses in batch 5500-5750\n",
            "Got 0 empty responses in batch 5500-5750\n",
            "Got 0 empty responses in batch 5500-5750\n",
            "Got 0 empty responses in batch 5500-5750\n",
            "Got 0 empty responses in batch 5500-5750\n",
            "Got 0 empty responses in batch 5500-5750\n",
            "Got 0 empty responses in batch 5500-5750\n",
            "Got 0 empty responses in batch 5500-5750\n",
            "Got 0 empty responses in batch 5500-5750\n",
            "Got 0 empty responses in batch 5500-5750\n",
            "Got 0 empty responses in batch 5500-5750\n",
            "Got 0 empty responses in batch 5500-5750\n",
            "Got 0 empty responses in batch 5500-5750\n",
            "Got 0 empty responses in batch 5500-5750\n",
            "Got 0 empty responses in batch 5500-5750\n",
            "Got 0 empty responses in batch 5500-5750\n",
            "Got 0 empty responses in batch 5500-5750\n",
            "Got 0 empty responses in batch 5500-5750\n",
            "Got 0 empty responses in batch 5500-5750\n",
            "Got 0 empty responses in batch 5500-5750\n",
            "Got 0 empty responses in batch 5500-5750\n",
            "Got 0 empty responses in batch 5500-5750\n",
            "Got 0 empty responses in batch 5500-5750\n",
            "Got 0 empty responses in batch 5500-5750\n",
            "Got 0 empty responses in batch 5500-5750\n",
            "Got 0 empty responses in batch 5500-5750\n",
            "Got 0 empty responses in batch 5500-5750\n",
            "Got 0 empty responses in batch 5500-5750\n",
            "Got 0 empty responses in batch 5500-5750\n",
            "Got 0 empty responses in batch 5500-5750\n",
            "Got 0 empty responses in batch 5500-5750\n",
            "Got 0 empty responses in batch 5500-5750\n",
            "Got 0 empty responses in batch 5500-5750\n",
            "Got 0 empty responses in batch 5500-5750\n",
            "Got 0 empty responses in batch 5500-5750\n"
          ]
        }
      ],
      "source": [
        "\n",
        "# Process them in batches of 250, to avoid API limits\n",
        "batch_size = 250\n",
        "for batch_low_idx in range(5250, 5750, batch_size):\n",
        "  map_rephrased = {\n",
        "    'index': [],\n",
        "    'original_chatgpt': [],\n",
        "    'rephrased_chatgpt': [],\n",
        "  }\n",
        "  for i in range(batch_low_idx, batch_low_idx + batch_size):\n",
        "    original_texts = df['chatgpt_answers'][i]\n",
        "\n",
        "    if len(original_texts) == 0:\n",
        "      print('WARNING: Found empty chatgpt original text at index i=%d' % i)\n",
        "      continue\n",
        "    \n",
        "    original_text = original_texts[0]\n",
        "\n",
        "    response = openai.Completion.create(\n",
        "      engine=\"text-davinci-003\",\n",
        "      prompt=\"Rephrase the following text and make it one paragraph long: '\" + original_text + \"'\",\n",
        "      temperature=0.9,\n",
        "      max_tokens=1024, # larger than 637\n",
        "      frequency_penalty=0,\n",
        "      presence_penalty=0,\n",
        "      best_of=1,\n",
        "      n=1\n",
        "    )\n",
        "\n",
        "    # headers: index, original_chatgpt, rephrased_chatgpt\n",
        "    map_rephrased['index'].append(i)\n",
        "    map_rephrased['original_chatgpt'].append(original_text)\n",
        "    map_rephrased['rephrased_chatgpt'].append(response.choices[0].text.strip())\n",
        "\n",
        "    # Count number of empty response from OpenAI API\n",
        "    count_empty = 0\n",
        "    for rephrased_answer in map_rephrased['rephrased_chatgpt']:\n",
        "      if rephrased_answer == None or rephrased_answer == '' or rephrased_answer == 'NaN':\n",
        "        count_empty += 1\n",
        "    print('Got %d empty responses in batch %d-%d' % (count_empty, batch_low_idx, batch_low_idx + batch_size))\n",
        "\n",
        "    # Write rephrases to csv\n",
        "    df_rephrased = pd.DataFrame.from_dict(map_rephrased)\n",
        "    df_rephrased.to_csv('rephrased_first_' + '%d_%d' % (batch_low_idx, batch_low_idx + batch_size) + '.csv')"
      ]
    },
    {
      "cell_type": "code",
      "execution_count": 33,
      "metadata": {
        "colab": {
          "base_uri": "https://localhost:8080/"
        },
        "id": "uw6HCKvaod8i",
        "outputId": "4923e0be-d9da-44a9-cc2b-92faa0fabb85"
      },
      "outputs": [
        {
          "data": {
            "text/plain": [
              "0"
            ]
          },
          "execution_count": 33,
          "metadata": {},
          "output_type": "execute_result"
        }
      ],
      "source": [
        "count = 0\n",
        "for rephrased_answer in map_rephrased['rephrased_chatgpt']:\n",
        "  if rephrased_answer == '':\n",
        "    count += 1\n",
        "count"
      ]
    },
    {
      "cell_type": "code",
      "execution_count": 34,
      "metadata": {
        "id": "6h5NCNorR96i"
      },
      "outputs": [],
      "source": [
        "df_rephrased = pd.DataFrame.from_dict(map_rephrased)\n",
        "df_rephrased.to_csv('rephrased_first_3000_3500.csv')"
      ]
    },
    {
      "cell_type": "code",
      "execution_count": 35,
      "metadata": {
        "colab": {
          "base_uri": "https://localhost:8080/",
          "height": 423
        },
        "id": "kXT9hXzNfosj",
        "outputId": "3c4e67d2-9fb2-4ee0-eaef-d6d79035d573"
      },
      "outputs": [
        {
          "data": {
            "text/html": [
              "<div>\n",
              "<style scoped>\n",
              "    .dataframe tbody tr th:only-of-type {\n",
              "        vertical-align: middle;\n",
              "    }\n",
              "\n",
              "    .dataframe tbody tr th {\n",
              "        vertical-align: top;\n",
              "    }\n",
              "\n",
              "    .dataframe thead th {\n",
              "        text-align: right;\n",
              "    }\n",
              "</style>\n",
              "<table border=\"1\" class=\"dataframe\">\n",
              "  <thead>\n",
              "    <tr style=\"text-align: right;\">\n",
              "      <th></th>\n",
              "      <th>Unnamed: 0</th>\n",
              "      <th>index</th>\n",
              "      <th>original_chatgpt</th>\n",
              "      <th>rephrased_chatgpt</th>\n",
              "    </tr>\n",
              "  </thead>\n",
              "  <tbody>\n",
              "    <tr>\n",
              "      <th>0</th>\n",
              "      <td>0</td>\n",
              "      <td>2500</td>\n",
              "      <td>Bitcoins are a type of digital currency that c...</td>\n",
              "      <td>Bitcoins can be obtained through either mining...</td>\n",
              "    </tr>\n",
              "    <tr>\n",
              "      <th>1</th>\n",
              "      <td>1</td>\n",
              "      <td>2501</td>\n",
              "      <td>Different countries have different electrical ...</td>\n",
              "      <td>Different countries have electrical plugs that...</td>\n",
              "    </tr>\n",
              "    <tr>\n",
              "      <th>2</th>\n",
              "      <td>2</td>\n",
              "      <td>2502</td>\n",
              "      <td>The Stop Online Piracy Act (SOPA) was a bill t...</td>\n",
              "      <td>The Stop Online Piracy Act (SOPA) was a bill p...</td>\n",
              "    </tr>\n",
              "    <tr>\n",
              "      <th>3</th>\n",
              "      <td>3</td>\n",
              "      <td>2503</td>\n",
              "      <td>Sure! The Standard Model of particle physics i...</td>\n",
              "      <td>The Standard Model of particle physics is a th...</td>\n",
              "    </tr>\n",
              "    <tr>\n",
              "      <th>4</th>\n",
              "      <td>4</td>\n",
              "      <td>2504</td>\n",
              "      <td>Sure! A processor, also known as a Central Pro...</td>\n",
              "      <td>A processor, commonly known as a Central Proce...</td>\n",
              "    </tr>\n",
              "    <tr>\n",
              "      <th>...</th>\n",
              "      <td>...</td>\n",
              "      <td>...</td>\n",
              "      <td>...</td>\n",
              "      <td>...</td>\n",
              "    </tr>\n",
              "    <tr>\n",
              "      <th>495</th>\n",
              "      <td>495</td>\n",
              "      <td>2995</td>\n",
              "      <td>Sure! DES and AES are types of encryption that...</td>\n",
              "      <td>DES and AES are two types of encryption used t...</td>\n",
              "    </tr>\n",
              "    <tr>\n",
              "      <th>496</th>\n",
              "      <td>496</td>\n",
              "      <td>2996</td>\n",
              "      <td>Great question! When a government wants to pri...</td>\n",
              "      <td>When a government wants to print more money, t...</td>\n",
              "    </tr>\n",
              "    <tr>\n",
              "      <th>497</th>\n",
              "      <td>497</td>\n",
              "      <td>2997</td>\n",
              "      <td>Outsourcing is when a company hires someone fr...</td>\n",
              "      <td>Outsourcing can be a good or bad thing dependi...</td>\n",
              "    </tr>\n",
              "    <tr>\n",
              "      <th>498</th>\n",
              "      <td>498</td>\n",
              "      <td>2998</td>\n",
              "      <td>Strategy and tactics are both ways of achievin...</td>\n",
              "      <td>Strategy and tactics are two levels of action ...</td>\n",
              "    </tr>\n",
              "    <tr>\n",
              "      <th>499</th>\n",
              "      <td>499</td>\n",
              "      <td>2999</td>\n",
              "      <td>Noam Chomsky is a linguist, philosopher, and p...</td>\n",
              "      <td>Noam Chomsky is a renowned linguist, philosoph...</td>\n",
              "    </tr>\n",
              "  </tbody>\n",
              "</table>\n",
              "<p>500 rows × 4 columns</p>\n",
              "</div>"
            ],
            "text/plain": [
              "     Unnamed: 0  index                                   original_chatgpt  \\\n",
              "0             0   2500  Bitcoins are a type of digital currency that c...   \n",
              "1             1   2501  Different countries have different electrical ...   \n",
              "2             2   2502  The Stop Online Piracy Act (SOPA) was a bill t...   \n",
              "3             3   2503  Sure! The Standard Model of particle physics i...   \n",
              "4             4   2504  Sure! A processor, also known as a Central Pro...   \n",
              "..          ...    ...                                                ...   \n",
              "495         495   2995  Sure! DES and AES are types of encryption that...   \n",
              "496         496   2996  Great question! When a government wants to pri...   \n",
              "497         497   2997  Outsourcing is when a company hires someone fr...   \n",
              "498         498   2998  Strategy and tactics are both ways of achievin...   \n",
              "499         499   2999  Noam Chomsky is a linguist, philosopher, and p...   \n",
              "\n",
              "                                     rephrased_chatgpt  \n",
              "0    Bitcoins can be obtained through either mining...  \n",
              "1    Different countries have electrical plugs that...  \n",
              "2    The Stop Online Piracy Act (SOPA) was a bill p...  \n",
              "3    The Standard Model of particle physics is a th...  \n",
              "4    A processor, commonly known as a Central Proce...  \n",
              "..                                                 ...  \n",
              "495  DES and AES are two types of encryption used t...  \n",
              "496  When a government wants to print more money, t...  \n",
              "497  Outsourcing can be a good or bad thing dependi...  \n",
              "498  Strategy and tactics are two levels of action ...  \n",
              "499  Noam Chomsky is a renowned linguist, philosoph...  \n",
              "\n",
              "[500 rows x 4 columns]"
            ]
          },
          "execution_count": 35,
          "metadata": {},
          "output_type": "execute_result"
        }
      ],
      "source": [
        "df_test = pd.read_csv('rephrased_first_3000_3500.csv')\n",
        "df_test"
      ]
    },
    {
      "cell_type": "code",
      "execution_count": 36,
      "metadata": {
        "colab": {
          "base_uri": "https://localhost:8080/"
        },
        "id": "I6NwREKhhCSm",
        "outputId": "260f8d21-8a1f-4534-8f0c-f0c05ef96fb5"
      },
      "outputs": [
        {
          "data": {
            "text/plain": [
              "0"
            ]
          },
          "execution_count": 36,
          "metadata": {},
          "output_type": "execute_result"
        }
      ],
      "source": [
        "df_test['rephrased_chatgpt'].isna().sum()"
      ]
    },
    {
      "cell_type": "code",
      "execution_count": 9,
      "metadata": {},
      "outputs": [
        {
          "data": {
            "text/plain": [
              "(5750, 5)"
            ]
          },
          "execution_count": 9,
          "metadata": {},
          "output_type": "execute_result"
        }
      ],
      "source": [
        "df_all = pd.concat(\n",
        "    [\n",
        "        pd.read_csv('rephrased_first_1k.csv'),\n",
        "        pd.read_csv('rephrased_first_1000_1300.csv'),\n",
        "        pd.read_csv('rephrased_first_1300_1600.csv'),\n",
        "        pd.read_csv('rephrased_first_1600_2000.csv'),\n",
        "        pd.read_csv('rephrased_first_2000_2500.csv'),\n",
        "        pd.read_csv('rephrased_first_2500_3000.csv'),\n",
        "        pd.read_csv('rephrased_first_3000_3250.csv'),\n",
        "        pd.read_csv('rephrased_first_3250_3500.csv'),\n",
        "        pd.read_csv('rephrased_first_3500_3750.csv'),\n",
        "        pd.read_csv('rephrased_first_3750_4000.csv'),\n",
        "        pd.read_csv('rephrased_first_4000_4250.csv'),\n",
        "        pd.read_csv('rephrased_first_4250_4500.csv'),\n",
        "        pd.read_csv('rephrased_first_4500_4750.csv'),\n",
        "        pd.read_csv('rephrased_first_4750_5000.csv'),\n",
        "        pd.read_csv('rephrased_first_5000_5250.csv'),\n",
        "        pd.read_csv('rephrased_first_5250_5500.csv'),\n",
        "        pd.read_csv('rephrased_first_5500_5750.csv'),\n",
        "    ],\n",
        "    ignore_index=True,\n",
        "    axis=0\n",
        "\n",
        ")\n",
        "df_all.shape"
      ]
    },
    {
      "cell_type": "code",
      "execution_count": null,
      "metadata": {},
      "outputs": [],
      "source": [
        "df_all.to_csv('rephrased_first_5750.csv')"
      ]
    },
    {
      "cell_type": "code",
      "execution_count": 49,
      "metadata": {},
      "outputs": [
        {
          "data": {
            "text/html": [
              "<div>\n",
              "<style scoped>\n",
              "    .dataframe tbody tr th:only-of-type {\n",
              "        vertical-align: middle;\n",
              "    }\n",
              "\n",
              "    .dataframe tbody tr th {\n",
              "        vertical-align: top;\n",
              "    }\n",
              "\n",
              "    .dataframe thead th {\n",
              "        text-align: right;\n",
              "    }\n",
              "</style>\n",
              "<table border=\"1\" class=\"dataframe\">\n",
              "  <thead>\n",
              "    <tr style=\"text-align: right;\">\n",
              "      <th></th>\n",
              "      <th>Unnamed: 0</th>\n",
              "      <th>index</th>\n",
              "      <th>original_chatgpt</th>\n",
              "      <th>rephrased_chatgpt</th>\n",
              "    </tr>\n",
              "  </thead>\n",
              "  <tbody>\n",
              "    <tr>\n",
              "      <th>167</th>\n",
              "      <td>117</td>\n",
              "      <td>167</td>\n",
              "      <td>Tilting your rearview mirror up at night allow...</td>\n",
              "      <td>NaN</td>\n",
              "    </tr>\n",
              "  </tbody>\n",
              "</table>\n",
              "</div>"
            ],
            "text/plain": [
              "     Unnamed: 0  index                                   original_chatgpt  \\\n",
              "167         117    167  Tilting your rearview mirror up at night allow...   \n",
              "\n",
              "    rephrased_chatgpt  \n",
              "167               NaN  "
            ]
          },
          "execution_count": 49,
          "metadata": {},
          "output_type": "execute_result"
        }
      ],
      "source": [
        "df_all[df_all['rephrased_chatgpt'].isnull()]"
      ]
    },
    {
      "cell_type": "code",
      "execution_count": 50,
      "metadata": {},
      "outputs": [
        {
          "data": {
            "text/plain": [
              "\"Tilting your rearview mirror up at night allows you to see a dimmer version of what's behind you because the mirror is designed to reflect light from the rear of your vehicle. When you tilt the mirror up, the light from the headlights of the vehicles behind you is reflected off the mirror and into your eyes. This can be helpful at night because it allows you to see what's behind you without being blinded by the bright headlights. \\nThe mirror is not just tilting up to hit the ceiling inside your car. It is still reflecting light, just at a different angle. When you tilt the mirror up, you are changing the angle at which the light is reflected off the mirror and into your eyes. This change in angle causes the light to appear dimmer, which can make it easier to see what's behind you at night.\""
            ]
          },
          "execution_count": 50,
          "metadata": {},
          "output_type": "execute_result"
        }
      ],
      "source": [
        "df_all.iloc[167]['original_chatgpt']"
      ]
    },
    {
      "cell_type": "code",
      "execution_count": 37,
      "metadata": {},
      "outputs": [],
      "source": [
        "original_text = df_all.iloc[167]['original_chatgpt']\n",
        "\n",
        "response = openai.Completion.create(\n",
        "engine=\"text-davinci-003\",\n",
        "prompt=\"Rephrase the following text and make it one paragraph long: '\" + original_text + \"'\",\n",
        "temperature=0.9,\n",
        "max_tokens=1024, # larger than 637\n",
        "frequency_penalty=0,\n",
        "presence_penalty=0,\n",
        "best_of=1,\n",
        "n=1\n",
        ")"
      ]
    },
    {
      "cell_type": "code",
      "execution_count": 51,
      "metadata": {},
      "outputs": [],
      "source": [
        "df_all.loc[167, 'rephrased_chatgpt'] = response.choices[0].text"
      ]
    },
    {
      "cell_type": "code",
      "execution_count": 54,
      "metadata": {},
      "outputs": [
        {
          "name": "stdout",
          "output_type": "stream",
          "text": [
            "Tilting your rearview mirror up at night allows you to see a dimmer version of what's behind you because the mirror is designed to reflect light from the rear of your vehicle. When you tilt the mirror up, the light from the headlights of the vehicles behind you is reflected off the mirror and into your eyes. This can be helpful at night because it allows you to see what's behind you without being blinded by the bright headlights. \n",
            "The mirror is not just tilting up to hit the ceiling inside your car. It is still reflecting light, just at a different angle. When you tilt the mirror up, you are changing the angle at which the light is reflected off the mirror and into your eyes. This change in angle causes the light to appear dimmer, which can make it easier to see what's behind you at night.\n",
            "\n",
            " Tilting your rearview mirror up at night allows you to see a dimmer version of what's behind you, making it easier to observe without being blinded by bright headlights, as the mirror is designed to reflect light from the rear of your vehicle at a different angle.\n"
          ]
        }
      ],
      "source": [
        "print(df_all.iloc[167]['original_chatgpt'])\n",
        "print()\n",
        "print(df_all.iloc[167]['rephrased_chatgpt'])"
      ]
    },
    {
      "cell_type": "code",
      "execution_count": 59,
      "metadata": {},
      "outputs": [
        {
          "data": {
            "text/html": [
              "<div>\n",
              "<style scoped>\n",
              "    .dataframe tbody tr th:only-of-type {\n",
              "        vertical-align: middle;\n",
              "    }\n",
              "\n",
              "    .dataframe tbody tr th {\n",
              "        vertical-align: top;\n",
              "    }\n",
              "\n",
              "    .dataframe thead th {\n",
              "        text-align: right;\n",
              "    }\n",
              "</style>\n",
              "<table border=\"1\" class=\"dataframe\">\n",
              "  <thead>\n",
              "    <tr style=\"text-align: right;\">\n",
              "      <th></th>\n",
              "      <th>Unnamed: 0</th>\n",
              "      <th>index</th>\n",
              "      <th>original_chatgpt</th>\n",
              "      <th>rephrased_chatgpt</th>\n",
              "    </tr>\n",
              "  </thead>\n",
              "  <tbody>\n",
              "  </tbody>\n",
              "</table>\n",
              "</div>"
            ],
            "text/plain": [
              "Empty DataFrame\n",
              "Columns: [Unnamed: 0, index, original_chatgpt, rephrased_chatgpt]\n",
              "Index: []"
            ]
          },
          "execution_count": 59,
          "metadata": {},
          "output_type": "execute_result"
        }
      ],
      "source": [
        "df_all[df_all['rephrased_chatgpt'].isnull()]"
      ]
    },
    {
      "cell_type": "code",
      "execution_count": 56,
      "metadata": {},
      "outputs": [],
      "source": [
        "df_all.to_csv('rephrased_first_1k.csv')"
      ]
    },
    {
      "cell_type": "code",
      "execution_count": null,
      "metadata": {},
      "outputs": [],
      "source": [
        "df_all[df_all['column name'].isnull()]"
      ]
    },
    {
      "cell_type": "code",
      "execution_count": null,
      "metadata": {
        "id": "e5lj_4eeRTfj"
      },
      "outputs": [],
      "source": [
        "response = openai.Completion.create(\n",
        "    engine=\"text-davinci-003\",\n",
        "    prompt=\"Rephrase the following text: \" + df['chatgpt_answers'][0][0],\n",
        "    temperature=0.5,\n",
        "    max_tokens=200,\n",
        "    frequency_penalty=0,\n",
        "    presence_penalty=0,\n",
        "    best_of=1,\n",
        "    n=1,\n",
        "  )"
      ]
    },
    {
      "cell_type": "code",
      "execution_count": null,
      "metadata": {
        "colab": {
          "base_uri": "https://localhost:8080/"
        },
        "id": "cEPPi5luRZhc",
        "outputId": "f26ee8d9-799f-4d3d-bb78-17b8f6123fab"
      },
      "outputs": [
        {
          "data": {
            "text/plain": [
              "<OpenAIObject text_completion id=cmpl-6zOuwxX1GQ0INdAbRo3gGQj55p7lf at 0x7fb464bb13b0> JSON: {\n",
              "  \"choices\": [\n",
              "    {\n",
              "      \"finish_reason\": \"stop\",\n",
              "      \"index\": 0,\n",
              "      \"logprobs\": null,\n",
              "      \"text\": \"\\nThe New York Times publishes a weekly best seller list which ranks the most popular books in the United States based on sales data from various outlets. This list is widely regarded as one of the most influential in the book industry and is often referred to when discussing best sellers. However, it is not the only best seller list available and there are many other lists which rank the top-selling books in various categories or countries. Therefore, a book can be a best seller on one list, but not on another. Additionally, the term \\\"best seller\\\" is often used more generally to refer to any book that is selling well, regardless of whether it is featured on a particular list or not.\"\n",
              "    }\n",
              "  ],\n",
              "  \"created\": 1680091810,\n",
              "  \"id\": \"cmpl-6zOuwxX1GQ0INdAbRo3gGQj55p7lf\",\n",
              "  \"model\": \"text-davinci-003\",\n",
              "  \"object\": \"text_completion\",\n",
              "  \"usage\": {\n",
              "    \"completion_tokens\": 138,\n",
              "    \"prompt_tokens\": 240,\n",
              "    \"total_tokens\": 378\n",
              "  }\n",
              "}"
            ]
          },
          "execution_count": 93,
          "metadata": {},
          "output_type": "execute_result"
        }
      ],
      "source": [
        "response"
      ]
    },
    {
      "cell_type": "code",
      "execution_count": null,
      "metadata": {
        "colab": {
          "base_uri": "https://localhost:8080/"
        },
        "id": "lE8MXszIMrBe",
        "outputId": "093acb83-447b-4bdf-be4b-c77ce4082cc6"
      },
      "outputs": [
        {
          "data": {
            "text/plain": [
              "{'index': [0, 1, 2],\n",
              " 'original_chatgpt': ['There are many different best seller lists that are published by various organizations, and the New York Times is just one of them. The New York Times best seller list is a weekly list that ranks the best-selling books in the United States based on sales data from a number of different retailers. The list is published in the New York Times newspaper and is widely considered to be one of the most influential best seller lists in the book industry. \\nIt\\'s important to note that the New York Times best seller list is not the only best seller list out there, and there are many other lists that rank the top-selling books in different categories or in different countries. So it\\'s possible that a book could be a best seller on one list but not on another. \\nAdditionally, the term \"best seller\" is often used more broadly to refer to any book that is selling well, regardless of whether it is on a specific best seller list or not. So it\\'s possible that you may hear about a book being a \"best seller\" even if it is not specifically ranked as a number one best seller on the New York Times list or any other list.',\n",
              "  \"Salt is used on roads to help melt ice and snow and improve traction during the winter months. When it's cold outside, water can freeze on the roads and make them very slippery, which can be dangerous for cars and people. Salt helps to melt the ice and snow by lowering the freezing point of water, which means that it can help keep the roads clear and safe to travel on. \\nThere are other options for melting ice and snow on roads, such as using chemicals like calcium chloride or magnesium chloride, or using mechanical methods like plows or sand. However, salt is often the most effective and affordable option for many communities, especially when it's used in combination with other methods. \\nIt's important to note that while salt can be helpful for making roads safer during the winter, it can also have negative effects on the environment and on the cars themselves. Salt can cause corrosion on metal surfaces, including cars, and it can also harm plants and animals if it washes into nearby waterways. However, despite these potential downsides, many communities continue to use salt as a way to keep roads clear and safe during the winter.\",\n",
              "  \"There are a few reasons why we still have SD (standard definition) TV channels: \\n1. Some people still use older TVs that are not compatible with HD (high definition) signals. These TVs can only display SD channels, so if we only had HD channels, those people wouldn't be able to watch TV. \\n2. HD channels take up more bandwidth than SD channels, so it's not possible to have as many HD channels as we have SD channels. This means that if we only had HD channels, some channels might not be available. \\n3. HD channels also require more expensive equipment to produce, so some TV stations might not be able to afford to upgrade to HD. \\nOverall, it's important to have both SD and HD channels so that everyone can watch TV, regardless of what kind of TV they have or how much money they have.\"],\n",
              " 'rephrased_chatgpt': ['', '', '']}"
            ]
          },
          "execution_count": 81,
          "metadata": {},
          "output_type": "execute_result"
        }
      ],
      "source": [
        "map_rephrased"
      ]
    },
    {
      "attachments": {},
      "cell_type": "markdown",
      "metadata": {},
      "source": [
        "Try with Edits API"
      ]
    },
    {
      "cell_type": "code",
      "execution_count": 21,
      "metadata": {},
      "outputs": [
        {
          "data": {
            "text/plain": [
              "'A transformer is a device that uses electricity to transfer energy from one circuit to another through a process called electrical induction. It does this by using coils of wire and a magnetic field. \\nInside a transformer, there are two coils of wire called the primary coil and the secondary coil. The primary coil is connected to a source of electricity, such as a power outlet, and the secondary coil is connected to a device that needs electricity, such as a lamp. \\nWhen electricity flows through the primary coil, it creates a magnetic field around the coil. This magnetic field then causes a current to flow in the secondary coil, which creates its own magnetic field. The two magnetic fields interact with each other, causing energy to be transferred from the primary coil to the secondary coil. \\nThe amount of energy that is transferred depends on the number of coils in each of the primary and secondary coils. If the secondary coil has fewer coils than the primary coil, it will receive less energy, which means the voltage of the electricity in the secondary circuit will be lower than the voltage in the primary circuit. On the other hand, if the secondary coil has more coils than the primary coil, it will receive more energy, which means the voltage of the electricity in the secondary circuit will be higher than the voltage in the primary circuit. \\nDoes this help to explain how a transformer works?'"
            ]
          },
          "execution_count": 21,
          "metadata": {},
          "output_type": "execute_result"
        }
      ],
      "source": [
        "text = df['chatgpt_answers'][100][0]\n",
        "text"
      ]
    },
    {
      "cell_type": "code",
      "execution_count": 28,
      "metadata": {
        "id": "WYcz91KV--lh"
      },
      "outputs": [],
      "source": [
        "response = response = openai.Edit.create(\n",
        "      model=\"text-davinci-edit-001\",\n",
        "      input=text,\n",
        "      instruction=\"Rephrase the given text and make it one paragraph long\",\n",
        "      temperature=0.5,\n",
        "      n=4, # num edits to generate, can play with this\n",
        "  )"
      ]
    },
    {
      "cell_type": "code",
      "execution_count": 27,
      "metadata": {
        "colab": {
          "base_uri": "https://localhost:8080/"
        },
        "id": "lbVNJCsA_EXQ",
        "outputId": "16866eab-d450-4b32-9615-c89acbc3098f"
      },
      "outputs": [
        {
          "data": {
            "text/plain": [
              "'A transformer is a device that uses electricity to transfer energy from one circuit to another through a process called electrical induction. It does this by using coils of wire and a magnetic field. Inside a transformer, there are two coils of wire called the primary coil and the secondary coil. The primary coil is connected to a source of electricity, such as a power outlet, and the secondary coil is connected to a device that needs electricity, such as a lamp. When electricity flows through the primary coil, it creates a magnetic field around the coil. This magnetic field then causes a current to flow in the secondary coil, which creates its own magnetic field. The two magnetic fields interact with each other, causing energy to be transferred from the primary coil to the secondary coil. The amount of energy that is transferred depends on the number of coils in each of the primary and secondary coils. If the secondary coil has fewer coils than the primary coil, it will receive less energy, which means the voltage of the electricity in the secondary circuit will be lower than the voltage in the primary circuit. On the other hand, if the secondary coil has more coils than the primary coil, it will receive more energy, which means the voltage of the electricity in the secondary circuit will be higher than the voltage in the primary circuit. \\n\\n\\n'"
            ]
          },
          "execution_count": 27,
          "metadata": {},
          "output_type": "execute_result"
        }
      ],
      "source": [
        "response.choices[0].text"
      ]
    },
    {
      "attachments": {},
      "cell_type": "markdown",
      "metadata": {},
      "source": [
        "Is always very redundant to making significant changes to the original text (note it is currently in alpha)"
      ]
    },
    {
      "attachments": {},
      "cell_type": "markdown",
      "metadata": {},
      "source": [
        "Try with Completions API"
      ]
    },
    {
      "cell_type": "code",
      "execution_count": 31,
      "metadata": {},
      "outputs": [
        {
          "data": {
            "text/plain": [
              "'A transformer is a device that uses electricity to transfer energy from one circuit to another through a process called electrical induction. It does this by using coils of wire and a magnetic field. \\nInside a transformer, there are two coils of wire called the primary coil and the secondary coil. The primary coil is connected to a source of electricity, such as a power outlet, and the secondary coil is connected to a device that needs electricity, such as a lamp. \\nWhen electricity flows through the primary coil, it creates a magnetic field around the coil. This magnetic field then causes a current to flow in the secondary coil, which creates its own magnetic field. The two magnetic fields interact with each other, causing energy to be transferred from the primary coil to the secondary coil. \\nThe amount of energy that is transferred depends on the number of coils in each of the primary and secondary coils. If the secondary coil has fewer coils than the primary coil, it will receive less energy, which means the voltage of the electricity in the secondary circuit will be lower than the voltage in the primary circuit. On the other hand, if the secondary coil has more coils than the primary coil, it will receive more energy, which means the voltage of the electricity in the secondary circuit will be higher than the voltage in the primary circuit. \\nDoes this help to explain how a transformer works?'"
            ]
          },
          "execution_count": 31,
          "metadata": {},
          "output_type": "execute_result"
        }
      ],
      "source": [
        "text = df['chatgpt_answers'][100][0]\n",
        "text"
      ]
    },
    {
      "cell_type": "code",
      "execution_count": 42,
      "metadata": {},
      "outputs": [
        {
          "data": {
            "text/plain": [
              "\"Rephrase the following text and make it one paragraph long: 'A transformer is a device that uses electricity to transfer energy from one circuit to another through a process called electrical induction. It does this by using coils of wire and a magnetic field. \\nInside a transformer, there are two coils of wire called the primary coil and the secondary coil. The primary coil is connected to a source of electricity, such as a power outlet, and the secondary coil is connected to a device that needs electricity, such as a lamp. \\nWhen electricity flows through the primary coil, it creates a magnetic field around the coil. This magnetic field then causes a current to flow in the secondary coil, which creates its own magnetic field. The two magnetic fields interact with each other, causing energy to be transferred from the primary coil to the secondary coil. \\nThe amount of energy that is transferred depends on the number of coils in each of the primary and secondary coils. If the secondary coil has fewer coils than the primary coil, it will receive less energy, which means the voltage of the electricity in the secondary circuit will be lower than the voltage in the primary circuit. On the other hand, if the secondary coil has more coils than the primary coil, it will receive more energy, which means the voltage of the electricity in the secondary circuit will be higher than the voltage in the primary circuit. \\nDoes this help to explain how a transformer works?'\""
            ]
          },
          "execution_count": 42,
          "metadata": {},
          "output_type": "execute_result"
        }
      ],
      "source": [
        "\"Rephrase the following text and make it one paragraph long: '\" + text + \"'\""
      ]
    },
    {
      "cell_type": "code",
      "execution_count": 52,
      "metadata": {
        "id": "v0YMbueW_HSb"
      },
      "outputs": [],
      "source": [
        "response = openai.Completion.create(\n",
        "    engine=\"text-davinci-003\",\n",
        "    prompt=\"Rephrase the following text and make it one paragraph long: '\" + text + \"'\",\n",
        "    temperature=0.9,\n",
        "    max_tokens=1024,\n",
        "    frequency_penalty=0,\n",
        "    presence_penalty=0,\n",
        "    n=1,\n",
        "    best_of=1\n",
        ")"
      ]
    },
    {
      "cell_type": "code",
      "execution_count": 53,
      "metadata": {},
      "outputs": [
        {
          "data": {
            "text/plain": [
              "'\\n\\nA transformer uses electricity to transfer energy from one circuit to another through a process called electrical induction by using coils of wire and a magnetic field. It contains two coils of wire, the primary coil connected to a source of electricity, such as a power outlet, and the secondary coil connected to a device needing electricity, such as a lamp. When electricity flows through the primary coil, it creates a magnetic field that induces a current in the secondary coil, thus transferring energy from the primary coil to the secondary coil. The amount of energy transferred depends on the number of coils in each of the primary and secondary coils - more coils in the secondary coil leads to more energy and higher voltage in the secondary circuit, and vice versa. Does this help to explain how a transformer works?'"
            ]
          },
          "execution_count": 53,
          "metadata": {},
          "output_type": "execute_result"
        }
      ],
      "source": [
        "response.choices[0].text"
      ]
    },
    {
      "attachments": {},
      "cell_type": "markdown",
      "metadata": {},
      "source": [
        "### Rephrase First 1k Human Answers"
      ]
    },
    {
      "cell_type": "code",
      "execution_count": 8,
      "metadata": {},
      "outputs": [
        {
          "data": {
            "text/html": [
              "<div>\n",
              "<style scoped>\n",
              "    .dataframe tbody tr th:only-of-type {\n",
              "        vertical-align: middle;\n",
              "    }\n",
              "\n",
              "    .dataframe tbody tr th {\n",
              "        vertical-align: top;\n",
              "    }\n",
              "\n",
              "    .dataframe thead th {\n",
              "        text-align: right;\n",
              "    }\n",
              "</style>\n",
              "<table border=\"1\" class=\"dataframe\">\n",
              "  <thead>\n",
              "    <tr style=\"text-align: right;\">\n",
              "      <th></th>\n",
              "      <th>question</th>\n",
              "      <th>human_answers</th>\n",
              "      <th>chatgpt_answers</th>\n",
              "      <th>index</th>\n",
              "      <th>source</th>\n",
              "    </tr>\n",
              "  </thead>\n",
              "  <tbody>\n",
              "    <tr>\n",
              "      <th>0</th>\n",
              "      <td>Why is every book I hear about a \" NY Times # ...</td>\n",
              "      <td>[Basically there are many categories of \" Best...</td>\n",
              "      <td>[There are many different best seller lists th...</td>\n",
              "      <td>NaN</td>\n",
              "      <td>reddit_eli5</td>\n",
              "    </tr>\n",
              "    <tr>\n",
              "      <th>1</th>\n",
              "      <td>If salt is so bad for cars , why do we use it ...</td>\n",
              "      <td>[salt is good for not dying in car crashes and...</td>\n",
              "      <td>[Salt is used on roads to help melt ice and sn...</td>\n",
              "      <td>NaN</td>\n",
              "      <td>reddit_eli5</td>\n",
              "    </tr>\n",
              "    <tr>\n",
              "      <th>2</th>\n",
              "      <td>Why do we still have SD TV channels when HD lo...</td>\n",
              "      <td>[The way it works is that old TV stations got ...</td>\n",
              "      <td>[There are a few reasons why we still have SD ...</td>\n",
              "      <td>NaN</td>\n",
              "      <td>reddit_eli5</td>\n",
              "    </tr>\n",
              "    <tr>\n",
              "      <th>3</th>\n",
              "      <td>Why has nobody assassinated Kim Jong - un He i...</td>\n",
              "      <td>[You ca n't just go around assassinating the l...</td>\n",
              "      <td>[It is generally not acceptable or ethical to ...</td>\n",
              "      <td>NaN</td>\n",
              "      <td>reddit_eli5</td>\n",
              "    </tr>\n",
              "    <tr>\n",
              "      <th>4</th>\n",
              "      <td>How was airplane technology able to advance so...</td>\n",
              "      <td>[Wanting to kill the shit out of Germans drive...</td>\n",
              "      <td>[After the Wright Brothers made the first powe...</td>\n",
              "      <td>NaN</td>\n",
              "      <td>reddit_eli5</td>\n",
              "    </tr>\n",
              "    <tr>\n",
              "      <th>...</th>\n",
              "      <td>...</td>\n",
              "      <td>...</td>\n",
              "      <td>...</td>\n",
              "      <td>...</td>\n",
              "      <td>...</td>\n",
              "    </tr>\n",
              "    <tr>\n",
              "      <th>1995</th>\n",
              "      <td>Why is it that countries with a smaller differ...</td>\n",
              "      <td>[Right now we live in what is referred to as a...</td>\n",
              "      <td>[A large gap between rich and poor can be bad ...</td>\n",
              "      <td>388.0</td>\n",
              "      <td>reddit_eli5</td>\n",
              "    </tr>\n",
              "    <tr>\n",
              "      <th>1996</th>\n",
              "      <td>Tone deafness : what is it exactly and how in ...</td>\n",
              "      <td>[It 's when someone ca n't tell the difference...</td>\n",
              "      <td>[Tone deafness, also known as amusia, is a con...</td>\n",
              "      <td>389.0</td>\n",
              "      <td>reddit_eli5</td>\n",
              "    </tr>\n",
              "    <tr>\n",
              "      <th>1997</th>\n",
              "      <td>First grade math Prove to me that 2 + 2=4 , an...</td>\n",
              "      <td>[This is a good question , one that many mathe...</td>\n",
              "      <td>[Sure! 2 + 2 is equal to 4 because if you have...</td>\n",
              "      <td>390.0</td>\n",
              "      <td>reddit_eli5</td>\n",
              "    </tr>\n",
              "    <tr>\n",
              "      <th>1998</th>\n",
              "      <td>What exactly are tropes ? And more specificall...</td>\n",
              "      <td>[A trope is just a commonly expressed pattern ...</td>\n",
              "      <td>[Tropes are a common pattern, theme, or motif ...</td>\n",
              "      <td>391.0</td>\n",
              "      <td>reddit_eli5</td>\n",
              "    </tr>\n",
              "    <tr>\n",
              "      <th>1999</th>\n",
              "      <td>Why do we have internet cap ? Why do most inte...</td>\n",
              "      <td>[Honestly : because they discovered they can p...</td>\n",
              "      <td>[Internet service providers (ISPs) have to cha...</td>\n",
              "      <td>392.0</td>\n",
              "      <td>reddit_eli5</td>\n",
              "    </tr>\n",
              "  </tbody>\n",
              "</table>\n",
              "<p>2000 rows × 5 columns</p>\n",
              "</div>"
            ],
            "text/plain": [
              "                                               question  \\\n",
              "0     Why is every book I hear about a \" NY Times # ...   \n",
              "1     If salt is so bad for cars , why do we use it ...   \n",
              "2     Why do we still have SD TV channels when HD lo...   \n",
              "3     Why has nobody assassinated Kim Jong - un He i...   \n",
              "4     How was airplane technology able to advance so...   \n",
              "...                                                 ...   \n",
              "1995  Why is it that countries with a smaller differ...   \n",
              "1996  Tone deafness : what is it exactly and how in ...   \n",
              "1997  First grade math Prove to me that 2 + 2=4 , an...   \n",
              "1998  What exactly are tropes ? And more specificall...   \n",
              "1999  Why do we have internet cap ? Why do most inte...   \n",
              "\n",
              "                                          human_answers  \\\n",
              "0     [Basically there are many categories of \" Best...   \n",
              "1     [salt is good for not dying in car crashes and...   \n",
              "2     [The way it works is that old TV stations got ...   \n",
              "3     [You ca n't just go around assassinating the l...   \n",
              "4     [Wanting to kill the shit out of Germans drive...   \n",
              "...                                                 ...   \n",
              "1995  [Right now we live in what is referred to as a...   \n",
              "1996  [It 's when someone ca n't tell the difference...   \n",
              "1997  [This is a good question , one that many mathe...   \n",
              "1998  [A trope is just a commonly expressed pattern ...   \n",
              "1999  [Honestly : because they discovered they can p...   \n",
              "\n",
              "                                        chatgpt_answers  index       source  \n",
              "0     [There are many different best seller lists th...    NaN  reddit_eli5  \n",
              "1     [Salt is used on roads to help melt ice and sn...    NaN  reddit_eli5  \n",
              "2     [There are a few reasons why we still have SD ...    NaN  reddit_eli5  \n",
              "3     [It is generally not acceptable or ethical to ...    NaN  reddit_eli5  \n",
              "4     [After the Wright Brothers made the first powe...    NaN  reddit_eli5  \n",
              "...                                                 ...    ...          ...  \n",
              "1995  [A large gap between rich and poor can be bad ...  388.0  reddit_eli5  \n",
              "1996  [Tone deafness, also known as amusia, is a con...  389.0  reddit_eli5  \n",
              "1997  [Sure! 2 + 2 is equal to 4 because if you have...  390.0  reddit_eli5  \n",
              "1998  [Tropes are a common pattern, theme, or motif ...  391.0  reddit_eli5  \n",
              "1999  [Internet service providers (ISPs) have to cha...  392.0  reddit_eli5  \n",
              "\n",
              "[2000 rows x 5 columns]"
            ]
          },
          "execution_count": 8,
          "metadata": {},
          "output_type": "execute_result"
        }
      ],
      "source": [
        "df"
      ]
    },
    {
      "cell_type": "code",
      "execution_count": 17,
      "metadata": {},
      "outputs": [],
      "source": [
        "map_rephrased = {\n",
        "    'index': [],\n",
        "    'original_human': [],\n",
        "    'rephrased_human': [],\n",
        "}\n",
        "# 700-1000\n",
        "for i in range(700, 1000):\n",
        "  original_texts = df['human_answers'][i]\n",
        "\n",
        "  if len(original_texts) == 0:\n",
        "    print('WARNING: Found empty human original text at index i=%d' % i)\n",
        "    continue\n",
        "  \n",
        "  original_text = original_texts[0]\n",
        "\n",
        "  response = openai.Completion.create(\n",
        "    engine=\"text-davinci-003\",\n",
        "    prompt=\"Rephrase the following text and make it one paragraph long: '\" + original_text + \"'\",\n",
        "    temperature=0.9,\n",
        "    max_tokens=1024, # larger than 637\n",
        "    frequency_penalty=0,\n",
        "    presence_penalty=0,\n",
        "    best_of=1,\n",
        "    n=1\n",
        "  )\n",
        "\n",
        "  # headers: index, original_chatgpt, rephrased_chatgpt\n",
        "  map_rephrased['index'].append(i)\n",
        "  map_rephrased['original_human'].append(original_text)\n",
        "  map_rephrased['rephrased_human'].append(response.choices[0].text.strip())"
      ]
    },
    {
      "cell_type": "code",
      "execution_count": 18,
      "metadata": {},
      "outputs": [
        {
          "data": {
            "text/plain": [
              "0"
            ]
          },
          "execution_count": 18,
          "metadata": {},
          "output_type": "execute_result"
        }
      ],
      "source": [
        "count = 0\n",
        "for rephrased_answer in map_rephrased['rephrased_human']:\n",
        "  if rephrased_answer == '':\n",
        "    count += 1\n",
        "count"
      ]
    },
    {
      "cell_type": "code",
      "execution_count": 19,
      "metadata": {},
      "outputs": [],
      "source": [
        "df_rephrased = pd.DataFrame.from_dict(map_rephrased)\n",
        "df_rephrased.to_csv('human_rephrased_first_700_1000.csv')"
      ]
    },
    {
      "cell_type": "code",
      "execution_count": 20,
      "metadata": {},
      "outputs": [
        {
          "data": {
            "text/html": [
              "<div>\n",
              "<style scoped>\n",
              "    .dataframe tbody tr th:only-of-type {\n",
              "        vertical-align: middle;\n",
              "    }\n",
              "\n",
              "    .dataframe tbody tr th {\n",
              "        vertical-align: top;\n",
              "    }\n",
              "\n",
              "    .dataframe thead th {\n",
              "        text-align: right;\n",
              "    }\n",
              "</style>\n",
              "<table border=\"1\" class=\"dataframe\">\n",
              "  <thead>\n",
              "    <tr style=\"text-align: right;\">\n",
              "      <th></th>\n",
              "      <th>Unnamed: 0</th>\n",
              "      <th>index</th>\n",
              "      <th>original_human</th>\n",
              "      <th>rephrased_human</th>\n",
              "    </tr>\n",
              "  </thead>\n",
              "  <tbody>\n",
              "    <tr>\n",
              "      <th>0</th>\n",
              "      <td>0</td>\n",
              "      <td>700</td>\n",
              "      <td>I think the real question is how you define bi...</td>\n",
              "      <td>What constitutes biological success is up for ...</td>\n",
              "    </tr>\n",
              "    <tr>\n",
              "      <th>1</th>\n",
              "      <td>1</td>\n",
              "      <td>701</td>\n",
              "      <td>The music industry has little to do with music...</td>\n",
              "      <td>The music industry is more about business than...</td>\n",
              "    </tr>\n",
              "    <tr>\n",
              "      <th>2</th>\n",
              "      <td>2</td>\n",
              "      <td>702</td>\n",
              "      <td>Well , in terms of actual BDSM it is actually ...</td>\n",
              "      <td>Well, in terms of actual BDSM, Fifty Shades of...</td>\n",
              "    </tr>\n",
              "    <tr>\n",
              "      <th>3</th>\n",
              "      <td>3</td>\n",
              "      <td>703</td>\n",
              "      <td>Glucose monitors have been around for over 35 ...</td>\n",
              "      <td>For over 35 years, glucose monitors have been ...</td>\n",
              "    </tr>\n",
              "    <tr>\n",
              "      <th>4</th>\n",
              "      <td>4</td>\n",
              "      <td>704</td>\n",
              "      <td>If you want to look at it from a monetary pers...</td>\n",
              "      <td>Exploring space not only creates new tech, exp...</td>\n",
              "    </tr>\n",
              "    <tr>\n",
              "      <th>...</th>\n",
              "      <td>...</td>\n",
              "      <td>...</td>\n",
              "      <td>...</td>\n",
              "      <td>...</td>\n",
              "    </tr>\n",
              "    <tr>\n",
              "      <th>295</th>\n",
              "      <td>295</td>\n",
              "      <td>995</td>\n",
              "      <td>The data is on your hard drive and when you de...</td>\n",
              "      <td>If you delete data stored on your hard drive, ...</td>\n",
              "    </tr>\n",
              "    <tr>\n",
              "      <th>296</th>\n",
              "      <td>296</td>\n",
              "      <td>996</td>\n",
              "      <td>Okay , so I think everyone is different . For ...</td>\n",
              "      <td>When I'm nervous or stressed I tend to experie...</td>\n",
              "    </tr>\n",
              "    <tr>\n",
              "      <th>297</th>\n",
              "      <td>297</td>\n",
              "      <td>997</td>\n",
              "      <td>Expense and privacy concerns . If a police off...</td>\n",
              "      <td>Given the expense and privacy issues that aris...</td>\n",
              "    </tr>\n",
              "    <tr>\n",
              "      <th>298</th>\n",
              "      <td>298</td>\n",
              "      <td>998</td>\n",
              "      <td>[ Here 's Kevin James ] ( URL_2 ) , and [ here...</td>\n",
              "      <td>Kevin James (URL_2) and his love interest in P...</td>\n",
              "    </tr>\n",
              "    <tr>\n",
              "      <th>299</th>\n",
              "      <td>299</td>\n",
              "      <td>999</td>\n",
              "      <td>I think it 's only a taboo in older generation...</td>\n",
              "      <td>My dad, born in the 40s and a Vietnam veteran,...</td>\n",
              "    </tr>\n",
              "  </tbody>\n",
              "</table>\n",
              "<p>300 rows × 4 columns</p>\n",
              "</div>"
            ],
            "text/plain": [
              "     Unnamed: 0  index                                     original_human  \\\n",
              "0             0    700  I think the real question is how you define bi...   \n",
              "1             1    701  The music industry has little to do with music...   \n",
              "2             2    702  Well , in terms of actual BDSM it is actually ...   \n",
              "3             3    703  Glucose monitors have been around for over 35 ...   \n",
              "4             4    704  If you want to look at it from a monetary pers...   \n",
              "..          ...    ...                                                ...   \n",
              "295         295    995  The data is on your hard drive and when you de...   \n",
              "296         296    996  Okay , so I think everyone is different . For ...   \n",
              "297         297    997  Expense and privacy concerns . If a police off...   \n",
              "298         298    998  [ Here 's Kevin James ] ( URL_2 ) , and [ here...   \n",
              "299         299    999  I think it 's only a taboo in older generation...   \n",
              "\n",
              "                                       rephrased_human  \n",
              "0    What constitutes biological success is up for ...  \n",
              "1    The music industry is more about business than...  \n",
              "2    Well, in terms of actual BDSM, Fifty Shades of...  \n",
              "3    For over 35 years, glucose monitors have been ...  \n",
              "4    Exploring space not only creates new tech, exp...  \n",
              "..                                                 ...  \n",
              "295  If you delete data stored on your hard drive, ...  \n",
              "296  When I'm nervous or stressed I tend to experie...  \n",
              "297  Given the expense and privacy issues that aris...  \n",
              "298  Kevin James (URL_2) and his love interest in P...  \n",
              "299  My dad, born in the 40s and a Vietnam veteran,...  \n",
              "\n",
              "[300 rows x 4 columns]"
            ]
          },
          "execution_count": 20,
          "metadata": {},
          "output_type": "execute_result"
        }
      ],
      "source": [
        "df_test = pd.read_csv('human_rephrased_first_700_1000.csv')\n",
        "df_test"
      ]
    },
    {
      "cell_type": "code",
      "execution_count": 21,
      "metadata": {},
      "outputs": [
        {
          "data": {
            "text/plain": [
              "0"
            ]
          },
          "execution_count": 21,
          "metadata": {},
          "output_type": "execute_result"
        }
      ],
      "source": [
        "df_test['rephrased_human'].isna().sum()"
      ]
    },
    {
      "cell_type": "code",
      "execution_count": 24,
      "metadata": {},
      "outputs": [
        {
          "data": {
            "text/html": [
              "<div>\n",
              "<style scoped>\n",
              "    .dataframe tbody tr th:only-of-type {\n",
              "        vertical-align: middle;\n",
              "    }\n",
              "\n",
              "    .dataframe tbody tr th {\n",
              "        vertical-align: top;\n",
              "    }\n",
              "\n",
              "    .dataframe thead th {\n",
              "        text-align: right;\n",
              "    }\n",
              "</style>\n",
              "<table border=\"1\" class=\"dataframe\">\n",
              "  <thead>\n",
              "    <tr style=\"text-align: right;\">\n",
              "      <th></th>\n",
              "      <th>Unnamed: 0</th>\n",
              "      <th>index</th>\n",
              "      <th>original_human</th>\n",
              "      <th>rephrased_human</th>\n",
              "    </tr>\n",
              "  </thead>\n",
              "  <tbody>\n",
              "    <tr>\n",
              "      <th>0</th>\n",
              "      <td>0</td>\n",
              "      <td>0</td>\n",
              "      <td>Basically there are many categories of \" Best ...</td>\n",
              "      <td>Basically, similar to the Oscars, if a book is...</td>\n",
              "    </tr>\n",
              "    <tr>\n",
              "      <th>1</th>\n",
              "      <td>1</td>\n",
              "      <td>1</td>\n",
              "      <td>salt is good for not dying in car crashes and ...</td>\n",
              "      <td>Salt is an inexpensive and effective way to pr...</td>\n",
              "    </tr>\n",
              "    <tr>\n",
              "      <th>2</th>\n",
              "      <td>2</td>\n",
              "      <td>2</td>\n",
              "      <td>The way it works is that old TV stations got a...</td>\n",
              "      <td>Old TV stations were given a certain amount of...</td>\n",
              "    </tr>\n",
              "    <tr>\n",
              "      <th>3</th>\n",
              "      <td>3</td>\n",
              "      <td>3</td>\n",
              "      <td>You ca n't just go around assassinating the le...</td>\n",
              "      <td>Even though no one likes Kim Jong-Un and North...</td>\n",
              "    </tr>\n",
              "    <tr>\n",
              "      <th>4</th>\n",
              "      <td>4</td>\n",
              "      <td>4</td>\n",
              "      <td>Wanting to kill the shit out of Germans drives...</td>\n",
              "      <td>The motivating desire to defeat the Germans in...</td>\n",
              "    </tr>\n",
              "    <tr>\n",
              "      <th>...</th>\n",
              "      <td>...</td>\n",
              "      <td>...</td>\n",
              "      <td>...</td>\n",
              "      <td>...</td>\n",
              "    </tr>\n",
              "    <tr>\n",
              "      <th>995</th>\n",
              "      <td>295</td>\n",
              "      <td>995</td>\n",
              "      <td>The data is on your hard drive and when you de...</td>\n",
              "      <td>If you delete data stored on your hard drive, ...</td>\n",
              "    </tr>\n",
              "    <tr>\n",
              "      <th>996</th>\n",
              "      <td>296</td>\n",
              "      <td>996</td>\n",
              "      <td>Okay , so I think everyone is different . For ...</td>\n",
              "      <td>When I'm nervous or stressed I tend to experie...</td>\n",
              "    </tr>\n",
              "    <tr>\n",
              "      <th>997</th>\n",
              "      <td>297</td>\n",
              "      <td>997</td>\n",
              "      <td>Expense and privacy concerns . If a police off...</td>\n",
              "      <td>Given the expense and privacy issues that aris...</td>\n",
              "    </tr>\n",
              "    <tr>\n",
              "      <th>998</th>\n",
              "      <td>298</td>\n",
              "      <td>998</td>\n",
              "      <td>[ Here 's Kevin James ] ( URL_2 ) , and [ here...</td>\n",
              "      <td>Kevin James (URL_2) and his love interest in P...</td>\n",
              "    </tr>\n",
              "    <tr>\n",
              "      <th>999</th>\n",
              "      <td>299</td>\n",
              "      <td>999</td>\n",
              "      <td>I think it 's only a taboo in older generation...</td>\n",
              "      <td>My dad, born in the 40s and a Vietnam veteran,...</td>\n",
              "    </tr>\n",
              "  </tbody>\n",
              "</table>\n",
              "<p>1000 rows × 4 columns</p>\n",
              "</div>"
            ],
            "text/plain": [
              "     Unnamed: 0  index                                     original_human  \\\n",
              "0             0      0  Basically there are many categories of \" Best ...   \n",
              "1             1      1  salt is good for not dying in car crashes and ...   \n",
              "2             2      2  The way it works is that old TV stations got a...   \n",
              "3             3      3  You ca n't just go around assassinating the le...   \n",
              "4             4      4  Wanting to kill the shit out of Germans drives...   \n",
              "..          ...    ...                                                ...   \n",
              "995         295    995  The data is on your hard drive and when you de...   \n",
              "996         296    996  Okay , so I think everyone is different . For ...   \n",
              "997         297    997  Expense and privacy concerns . If a police off...   \n",
              "998         298    998  [ Here 's Kevin James ] ( URL_2 ) , and [ here...   \n",
              "999         299    999  I think it 's only a taboo in older generation...   \n",
              "\n",
              "                                       rephrased_human  \n",
              "0    Basically, similar to the Oscars, if a book is...  \n",
              "1    Salt is an inexpensive and effective way to pr...  \n",
              "2    Old TV stations were given a certain amount of...  \n",
              "3    Even though no one likes Kim Jong-Un and North...  \n",
              "4    The motivating desire to defeat the Germans in...  \n",
              "..                                                 ...  \n",
              "995  If you delete data stored on your hard drive, ...  \n",
              "996  When I'm nervous or stressed I tend to experie...  \n",
              "997  Given the expense and privacy issues that aris...  \n",
              "998  Kevin James (URL_2) and his love interest in P...  \n",
              "999  My dad, born in the 40s and a Vietnam veteran,...  \n",
              "\n",
              "[1000 rows x 4 columns]"
            ]
          },
          "execution_count": 24,
          "metadata": {},
          "output_type": "execute_result"
        }
      ],
      "source": [
        "df_1 = pd.read_csv('human_rephrased_first_01_100.csv')\n",
        "df_2 = pd.read_csv('human_rephrased_first_100_400.csv')\n",
        "df_3 = pd.read_csv('human_rephrased_first_400_700.csv')\n",
        "df_4 = pd.read_csv('human_rephrased_first_700_1000.csv')\n",
        "\n",
        "df_all = pd.concat([df_1, df_2, df_3, df_4], ignore_index=True, axis=0)\n",
        "df_all"
      ]
    },
    {
      "cell_type": "code",
      "execution_count": 25,
      "metadata": {},
      "outputs": [
        {
          "data": {
            "text/plain": [
              "0"
            ]
          },
          "execution_count": 25,
          "metadata": {},
          "output_type": "execute_result"
        }
      ],
      "source": [
        "df_all['rephrased_human'].isna().sum()"
      ]
    },
    {
      "cell_type": "code",
      "execution_count": 26,
      "metadata": {},
      "outputs": [],
      "source": [
        "df_all.to_csv('human_rephrased_first_1000.csv')"
      ]
    },
    {
      "cell_type": "code",
      "execution_count": null,
      "metadata": {},
      "outputs": [],
      "source": []
    }
  ],
  "metadata": {
    "colab": {
      "provenance": []
    },
    "kernelspec": {
      "display_name": "Python 3",
      "name": "python3"
    },
    "language_info": {
      "codemirror_mode": {
        "name": "ipython",
        "version": 3
      },
      "file_extension": ".py",
      "mimetype": "text/x-python",
      "name": "python",
      "nbconvert_exporter": "python",
      "pygments_lexer": "ipython3",
      "version": "3.10.8"
    }
  },
  "nbformat": 4,
  "nbformat_minor": 0
}
